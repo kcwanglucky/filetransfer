{
  "nbformat": 4,
  "nbformat_minor": 0,
  "metadata": {
    "accelerator": "GPU",
    "colab": {
      "name": "app_comment_generate_reply.ipynb",
      "provenance": [],
      "collapsed_sections": [
        "9Ku-AiVtmsf0"
      ],
      "toc_visible": true,
      "machine_shape": "hm",
      "include_colab_link": true
    },
    "kernelspec": {
      "display_name": "Python 3",
      "language": "python",
      "name": "python3"
    },
    "language_info": {
      "codemirror_mode": {
        "name": "ipython",
        "version": 3
      },
      "file_extension": ".py",
      "mimetype": "text/x-python",
      "name": "python",
      "nbconvert_exporter": "python",
      "pygments_lexer": "ipython3",
      "version": "3.6.7"
    }
  },
  "cells": [
    {
      "cell_type": "markdown",
      "metadata": {
        "id": "view-in-github",
        "colab_type": "text"
      },
      "source": [
        "<a href=\"https://colab.research.google.com/github/kcwanglucky/filetransfer/blob/master/app_comment_generate_reply.ipynb\" target=\"_parent\"><img src=\"https://colab.research.google.com/assets/colab-badge.svg\" alt=\"Open In Colab\"/></a>"
      ]
    },
    {
      "cell_type": "markdown",
      "metadata": {
        "colab_type": "text",
        "id": "c_JgXntS29zF"
      },
      "source": [
        "* Provide \"/content/20190508起APP評論.xlsx\" or whatever app comment file with similar format  \n",
        "* Auto-generate a new column \"自動回覆內容\" on the original xlsx file and then save at \"autoresponse.xlsx\""
      ]
    },
    {
      "cell_type": "code",
      "metadata": {
        "colab_type": "code",
        "id": "2YqGo0RWRxGr",
        "outputId": "7941fcb6-a275-4670-d6cf-069e18666a1d",
        "colab": {
          "base_uri": "https://localhost:8080/",
          "height": 326
        }
      },
      "source": [
        "!pip install transformers"
      ],
      "execution_count": 0,
      "outputs": [
        {
          "output_type": "stream",
          "text": [
            "Requirement already satisfied: transformers in /usr/local/lib/python3.6/dist-packages (2.9.1)\n",
            "Requirement already satisfied: numpy in /usr/local/lib/python3.6/dist-packages (from transformers) (1.18.4)\n",
            "Requirement already satisfied: regex!=2019.12.17 in /usr/local/lib/python3.6/dist-packages (from transformers) (2019.12.20)\n",
            "Requirement already satisfied: filelock in /usr/local/lib/python3.6/dist-packages (from transformers) (3.0.12)\n",
            "Requirement already satisfied: requests in /usr/local/lib/python3.6/dist-packages (from transformers) (2.23.0)\n",
            "Requirement already satisfied: tqdm>=4.27 in /usr/local/lib/python3.6/dist-packages (from transformers) (4.41.1)\n",
            "Requirement already satisfied: tokenizers==0.7.0 in /usr/local/lib/python3.6/dist-packages (from transformers) (0.7.0)\n",
            "Requirement already satisfied: sentencepiece in /usr/local/lib/python3.6/dist-packages (from transformers) (0.1.90)\n",
            "Requirement already satisfied: dataclasses; python_version < \"3.7\" in /usr/local/lib/python3.6/dist-packages (from transformers) (0.7)\n",
            "Requirement already satisfied: sacremoses in /usr/local/lib/python3.6/dist-packages (from transformers) (0.0.43)\n",
            "Requirement already satisfied: idna<3,>=2.5 in /usr/local/lib/python3.6/dist-packages (from requests->transformers) (2.9)\n",
            "Requirement already satisfied: certifi>=2017.4.17 in /usr/local/lib/python3.6/dist-packages (from requests->transformers) (2020.4.5.1)\n",
            "Requirement already satisfied: chardet<4,>=3.0.2 in /usr/local/lib/python3.6/dist-packages (from requests->transformers) (3.0.4)\n",
            "Requirement already satisfied: urllib3!=1.25.0,!=1.25.1,<1.26,>=1.21.1 in /usr/local/lib/python3.6/dist-packages (from requests->transformers) (1.24.3)\n",
            "Requirement already satisfied: six in /usr/local/lib/python3.6/dist-packages (from sacremoses->transformers) (1.12.0)\n",
            "Requirement already satisfied: click in /usr/local/lib/python3.6/dist-packages (from sacremoses->transformers) (7.1.2)\n",
            "Requirement already satisfied: joblib in /usr/local/lib/python3.6/dist-packages (from sacremoses->transformers) (0.14.1)\n"
          ],
          "name": "stdout"
        }
      ]
    },
    {
      "cell_type": "markdown",
      "metadata": {
        "colab_type": "text",
        "id": "YDiEb-y8SrVe"
      },
      "source": [
        "Idea:\n",
        "1.   13 reponses with > 5 counts automatically form groups. Try to put the other 129 types into the aforementioned 13 groups if certain conditions meet (consine similarity of Bert embeddings, etc.). If not, put into a separate group.\n",
        "\n",
        "    > Result:\n",
        "        *   Directly assigned to the group with highest cossim: 60ep - train acc~ 99%, test acc~ 45%\n",
        "        *   If max consim < 98.5%, create a separate group: 60ep - train acc~ 98.4%, test acc~ 44%\n",
        "        *   dropna the \"index\" and \"question\" columns:  \n",
        "        1) 15ep - train acc~ 98%, test acc~ 73% (ep15_eg5_ml30)  \n",
        "        2) 35ep - train acc~ 99%, test acc~ 65% (param: ep35_eg5_ml50)  \n",
        "        3) model_ep20_eg0_ml40 - train acc~ 99%, test acc~ 63%  \n",
        "        4) model_ep25_eg5_ml30 - train acc~ 99%, test acc~ 72.3%  \n",
        "        5) model_ep25_eg0_ml30 - train acc~ 99%, test acc~ 66%  \n",
        "        6) model_ep25_eg0_ml50 - train acc~ 98%, test acc~ 68%  \n",
        "        7) model_ep25_eg5_ml30 - train acc~ 99%, test acc~ 71.5%  \n",
        "        \n",
        "\n",
        "\n",
        "\n"
      ]
    },
    {
      "cell_type": "code",
      "metadata": {
        "id": "zxMbCzH51SxW",
        "colab_type": "code",
        "colab": {}
      },
      "source": [
        "#from BertSequenceClassification_streamline.bert_downstream_classification import *\n",
        "#from BertSequenceClassification_streamline.app_comment import *"
      ],
      "execution_count": 0,
      "outputs": []
    },
    {
      "cell_type": "code",
      "metadata": {
        "id": "YeL45Tc5fcIV",
        "colab_type": "code",
        "colab": {}
      },
      "source": [
        "from app_utility import *\n",
        "from bert_classification import *"
      ],
      "execution_count": 0,
      "outputs": []
    },
    {
      "cell_type": "code",
      "metadata": {
        "id": "ttmAnvH8xgSL",
        "colab_type": "code",
        "colab": {}
      },
      "source": [
        "\"\"\"set the global variables\"\"\"\n",
        "epoch = 20\n",
        "batch_size = 64\n",
        "min_each_group = 0                      # 每組至少要有幾筆才被放入訓練集\n",
        "max_length = 150                          # 若app comment評論超過此長度則刪除\n",
        "model_output = 'model_ep20_eg0_ml150'\n",
        "pretrained_bert_name = \"bert-base-chinese\"\n",
        "#model_start = \"app_all1\""
      ],
      "execution_count": 0,
      "outputs": []
    },
    {
      "cell_type": "code",
      "metadata": {
        "id": "PK-7RRue01kI",
        "colab_type": "code",
        "colab": {}
      },
      "source": [
        "path = \"20190508起APP評論.xlsx\"\n",
        "df = pd.read_excel(path)\n",
        "df = preprocess_app_comment(df, verbose = False)\n",
        "df = filter_toofew_toolong(df, min_each_group, max_length)\n",
        "df = append_question_title(df)          # 將問題的標題 append 到問題內文\n",
        "df = df.loc[:, [\"index\", \"question\"]]   # 只取 'index' 跟 'question' coluumn\n",
        "#df.to_csv(\"app_comment\" + \"_me\" + str(args.min_each_group) + \"_ml\" + str(args.maxlength) + \".csv\")"
      ],
      "execution_count": 0,
      "outputs": []
    },
    {
      "cell_type": "code",
      "metadata": {
        "id": "epenPdF24siV",
        "colab_type": "code",
        "outputId": "649e2bd9-0e51-48e2-c44a-96b689068285",
        "colab": {
          "base_uri": "https://localhost:8080/",
          "height": 289
        }
      },
      "source": [
        "# Investigate all data\n",
        "app_data = AppCommentData(df, mode = \"all\")\n",
        "#app_data.plot_pie(fontprop)\n",
        "_ = app_data.get_index_dist(verbose = True)"
      ],
      "execution_count": 0,
      "outputs": [
        {
          "output_type": "stream",
          "text": [
            "all data 各類分布: \n",
            "\n",
            "稱讚              數量: 648\n",
            "未知問題            數量: 556\n",
            "抱怨              數量: 244\n",
            "操作問題            數量: 190\n",
            "系統問題-Keypasco   數量: 115\n",
            "建議-APP          數量: 96\n",
            "建議-信用卡          數量: 89\n",
            "系統問題-bug        數量: 58\n",
            "顧客疑問            數量: 47\n",
            "建議-台幣           數量: 37\n",
            "第三方問題           數量: 20\n",
            "建議-已規劃          數量: 5\n",
            "建議-財富           數量: 3\n",
            "建議-外幣           數量: 2\n"
          ],
          "name": "stdout"
        }
      ]
    },
    {
      "cell_type": "code",
      "metadata": {
        "id": "iVWSwW9gY4d5",
        "colab_type": "code",
        "colab": {}
      },
      "source": [
        "num_labels = app_data.get_num_index()\n",
        "index2label = app_data.get_index2label()\n",
        "label2index = app_data.get_label2index()"
      ],
      "execution_count": 0,
      "outputs": []
    },
    {
      "cell_type": "code",
      "metadata": {
        "id": "lw6Qu11_5J-S",
        "colab_type": "code",
        "outputId": "de526b09-6578-4fb8-e8a0-8b0a075050c5",
        "colab": {
          "base_uri": "https://localhost:8080/",
          "height": 68
        }
      },
      "source": [
        "# Sampling 1: Random split\n",
        "#df_train, df_val, df_test = train_val_test_split(df)\n",
        "\n",
        "# Sampling 2: Sampling within each group\n",
        "df_train, df_val, df_test = output_split(df, 0.75)\n",
        "\n",
        "# 取得此預訓練模型所使用的 tokenizer\n",
        "tokenizer = BertTokenizer.from_pretrained(pretrained_bert_name)\n"
      ],
      "execution_count": 0,
      "outputs": [
        {
          "output_type": "stream",
          "text": [
            "訓練樣本數： 1583\n",
            "validation樣本數： 222\n",
            "預測樣本數： 221\n"
          ],
          "name": "stdout"
        }
      ]
    },
    {
      "cell_type": "code",
      "metadata": {
        "id": "5mZ8KQD55Mgm",
        "colab_type": "code",
        "colab": {}
      },
      "source": [
        "# investigate train set\n",
        "app_train = AppCommentData(df_train, \"train\", tokenizer, 64)\n",
        "app_train.reindex(label2index)     # 訓練前需要 reindex，不然若 output label 不是連續的話則預測結果會有問題\n",
        "#app_train.plot_pie(fontprop)"
      ],
      "execution_count": 0,
      "outputs": []
    },
    {
      "cell_type": "code",
      "metadata": {
        "id": "QSR0FvK25Og2",
        "colab_type": "code",
        "colab": {}
      },
      "source": [
        "# investigate test set\n",
        "app_val = AppCommentData(df_val, \"val\", tokenizer, 64)\n",
        "app_val.reindex(label2index)\n",
        "app_test = AppCommentData(df_test, \"test\", tokenizer, 64)\n",
        "app_test.reindex(label2index)\n",
        "#app_test.plot_pie(fontprop)"
      ],
      "execution_count": 0,
      "outputs": []
    },
    {
      "cell_type": "code",
      "metadata": {
        "id": "yqCbnIgc5Qi0",
        "colab_type": "code",
        "colab": {}
      },
      "source": [
        "trainloader = app_train.get_dataloader()\n",
        "valloader = app_val.get_dataloader()\n",
        "testloader = app_test.get_dataloader()"
      ],
      "execution_count": 0,
      "outputs": []
    },
    {
      "cell_type": "code",
      "metadata": {
        "id": "Um9rBhHe4pb_",
        "colab_type": "code",
        "outputId": "26a00b48-6fee-42c1-d551-6e5bde6337c1",
        "colab": {
          "base_uri": "https://localhost:8080/",
          "height": 1000
        }
      },
      "source": [
        "model = Model(df, pretrained_bert_name)\n",
        "_ = model.train(trainloader, valloader, epoch)"
      ],
      "execution_count": 0,
      "outputs": [
        {
          "output_type": "stream",
          "text": [
            "device: cuda:0\n",
            "\n",
            "======== Epoch 1 / 20 ========\n",
            "Training...\n",
            "loss: 55.668, acc: 0.504\n",
            "\n",
            "Running Validation...\n",
            "  Accuracy: 0.41\n",
            "\n",
            "======== Epoch 2 / 20 ========\n",
            "Training...\n",
            "loss: 43.955, acc: 0.539\n",
            "\n",
            "Running Validation...\n",
            "  Accuracy: 0.43\n",
            "\n",
            "======== Epoch 3 / 20 ========\n",
            "Training...\n",
            "loss: 36.707, acc: 0.606\n",
            "\n",
            "Running Validation...\n",
            "  Accuracy: 0.47\n",
            "\n",
            "======== Epoch 4 / 20 ========\n",
            "Training...\n",
            "loss: 31.172, acc: 0.669\n",
            "\n",
            "Running Validation...\n",
            "  Accuracy: 0.56\n",
            "\n",
            "======== Epoch 5 / 20 ========\n",
            "Training...\n",
            "loss: 26.288, acc: 0.742\n",
            "\n",
            "Running Validation...\n",
            "  Accuracy: 0.61\n",
            "\n",
            "======== Epoch 6 / 20 ========\n",
            "Training...\n",
            "loss: 22.315, acc: 0.776\n",
            "\n",
            "Running Validation...\n",
            "  Accuracy: 0.61\n",
            "\n",
            "======== Epoch 7 / 20 ========\n",
            "Training...\n",
            "loss: 19.414, acc: 0.829\n",
            "\n",
            "Running Validation...\n",
            "  Accuracy: 0.59\n",
            "\n",
            "======== Epoch 8 / 20 ========\n",
            "Training...\n",
            "loss: 17.155, acc: 0.867\n",
            "\n",
            "Running Validation...\n",
            "  Accuracy: 0.64\n",
            "\n",
            "======== Epoch 9 / 20 ========\n",
            "Training...\n",
            "loss: 15.048, acc: 0.876\n",
            "\n",
            "Running Validation...\n",
            "  Accuracy: 0.63\n",
            "\n",
            "======== Epoch 10 / 20 ========\n",
            "Training...\n",
            "loss: 12.971, acc: 0.894\n",
            "\n",
            "Running Validation...\n",
            "  Accuracy: 0.64\n",
            "\n",
            "======== Epoch 11 / 20 ========\n",
            "Training...\n",
            "loss: 10.874, acc: 0.921\n",
            "\n",
            "Running Validation...\n",
            "  Accuracy: 0.63\n",
            "\n",
            "======== Epoch 12 / 20 ========\n",
            "Training...\n",
            "loss: 9.164, acc: 0.936\n",
            "\n",
            "Running Validation...\n",
            "  Accuracy: 0.63\n",
            "\n",
            "======== Epoch 13 / 20 ========\n",
            "Training...\n",
            "loss: 7.473, acc: 0.949\n",
            "\n",
            "Running Validation...\n",
            "  Accuracy: 0.59\n",
            "\n",
            "======== Epoch 14 / 20 ========\n",
            "Training...\n",
            "loss: 6.416, acc: 0.958\n",
            "\n",
            "Running Validation...\n",
            "  Accuracy: 0.63\n",
            "\n",
            "======== Epoch 15 / 20 ========\n",
            "Training...\n",
            "loss: 5.322, acc: 0.966\n",
            "\n",
            "Running Validation...\n",
            "  Accuracy: 0.64\n",
            "\n",
            "======== Epoch 16 / 20 ========\n",
            "Training...\n",
            "loss: 4.475, acc: 0.972\n",
            "\n",
            "Running Validation...\n",
            "  Accuracy: 0.63\n",
            "\n",
            "======== Epoch 17 / 20 ========\n",
            "Training...\n",
            "loss: 3.696, acc: 0.973\n",
            "\n",
            "Running Validation...\n",
            "  Accuracy: 0.66\n",
            "\n",
            "======== Epoch 18 / 20 ========\n",
            "Training...\n",
            "loss: 3.296, acc: 0.983\n",
            "\n",
            "Running Validation...\n",
            "  Accuracy: 0.63\n",
            "\n",
            "======== Epoch 19 / 20 ========\n",
            "Training...\n",
            "loss: 2.954, acc: 0.985\n",
            "\n",
            "Running Validation...\n",
            "  Accuracy: 0.63\n",
            "\n",
            "======== Epoch 20 / 20 ========\n",
            "Training...\n",
            "loss: 2.515, acc: 0.989\n",
            "\n",
            "Running Validation...\n",
            "  Accuracy: 0.60\n"
          ],
          "name": "stdout"
        }
      ]
    },
    {
      "cell_type": "code",
      "metadata": {
        "id": "Lqs2fn78XIP5",
        "colab_type": "code",
        "outputId": "382d9aee-90c2-4e32-d15c-dc70485ff485",
        "colab": {
          "base_uri": "https://localhost:8080/",
          "height": 34
        }
      },
      "source": [
        "model.save_model(model_output)"
      ],
      "execution_count": 0,
      "outputs": [
        {
          "output_type": "stream",
          "text": [
            "Saving model to model_ep20_eg0_ml150\n"
          ],
          "name": "stdout"
        }
      ]
    },
    {
      "cell_type": "code",
      "metadata": {
        "id": "uhxBVS5Nmw4J",
        "colab_type": "code",
        "colab": {}
      },
      "source": [
        "predictions = get_predictions(model.model, testloader).detach().cpu().numpy()"
      ],
      "execution_count": 0,
      "outputs": []
    },
    {
      "cell_type": "code",
      "metadata": {
        "id": "A8nLUVAFdVTW",
        "colab_type": "code",
        "outputId": "2bb010f3-7376-4f42-8927-caebcf8febad",
        "colab": {
          "base_uri": "https://localhost:8080/",
          "height": 34
        }
      },
      "source": [
        "# testing\n",
        "#predictions = get_predictions(model, testloader).detach().cpu().numpy()\n",
        "#predictions = model.predict(testloader)\n",
        "\n",
        "true_label = app_test.df_reindex[\"index\"]\n",
        "class_matrix, false_group = get_confusion_matrix(true_label, predictions, num_labels)\n",
        "print_acc(class_matrix)\n",
        "\n",
        "# label_list = [index2label[key] for key in index2label]\n",
        "# label2index = {val:key for key, val in index2label.items()}\n",
        "# summary = pd.DataFrame(class_matrix, dtype = int, columns=label_list, index = label_list)\n",
        "# print(\"\\n測試集 confusion matrix:\")\n",
        "# summary"
      ],
      "execution_count": 0,
      "outputs": [
        {
          "output_type": "stream",
          "text": [
            "Accuracy: 59.276018099547514%\n"
          ],
          "name": "stdout"
        }
      ]
    },
    {
      "cell_type": "code",
      "metadata": {
        "id": "f3LjNEP3sc--",
        "colab_type": "code",
        "outputId": "8325c5bb-9acf-4d66-87c5-1d3626c46a2d",
        "colab": {
          "base_uri": "https://localhost:8080/",
          "height": 493
        }
      },
      "source": [
        "class_matrix"
      ],
      "execution_count": 0,
      "outputs": [
        {
          "output_type": "execute_result",
          "data": {
            "text/plain": [
              "array([[44.,  5.,  5.,  8.,  0.,  0.,  1.,  0.,  0.,  1.,  0.,  0.,  0.,\n",
              "         5.],\n",
              "       [ 2., 41.,  1.,  2.,  0.,  0.,  0.,  0.,  0.,  0.,  0.,  0.,  0.,\n",
              "         1.],\n",
              "       [ 7.,  1.,  8.,  4.,  0.,  0.,  0.,  1.,  0.,  0.,  0.,  0.,  0.,\n",
              "         0.],\n",
              "       [ 4.,  1.,  4., 17.,  0.,  0.,  0.,  0.,  0.,  0.,  0.,  0.,  0.,\n",
              "         1.],\n",
              "       [ 0.,  0.,  0.,  0.,  2.,  0.,  0.,  1.,  0.,  1.,  0.,  0.,  0.,\n",
              "         0.],\n",
              "       [ 0.,  0.,  0.,  0.,  0.,  0.,  0.,  0.,  0.,  1.,  0.,  0.,  0.,\n",
              "         0.],\n",
              "       [ 2.,  0.,  3.,  3.,  0.,  0.,  0.,  1.,  0.,  0.,  1.,  0.,  0.,\n",
              "         0.],\n",
              "       [ 0.,  1.,  0.,  0.,  0.,  0.,  0.,  8.,  0.,  0.,  0.,  0.,  0.,\n",
              "         0.],\n",
              "       [ 1.,  0.,  0.,  2.,  0.,  0.,  0.,  0.,  0.,  0.,  0.,  0.,  0.,\n",
              "         0.],\n",
              "       [ 3.,  1.,  3.,  0.,  0.,  0.,  1.,  0.,  0.,  3.,  0.,  0.,  0.,\n",
              "         0.],\n",
              "       [ 0.,  0.,  0.,  1.,  0.,  0.,  0.,  0.,  0.,  0.,  2.,  0.,  0.,\n",
              "         0.],\n",
              "       [ 0.,  0.,  0.,  0.,  1.,  0.,  0.,  0.,  0.,  0.,  0.,  0.,  0.,\n",
              "         0.],\n",
              "       [ 0.,  0.,  0.,  0.,  0.,  0.,  0.,  0.,  0.,  0.,  0.,  0.,  0.,\n",
              "         0.],\n",
              "       [ 4.,  0.,  3.,  1.,  0.,  0.,  0.,  1.,  0.,  0.,  0.,  0.,  0.,\n",
              "         6.]])"
            ]
          },
          "metadata": {
            "tags": []
          },
          "execution_count": 32
        }
      ]
    },
    {
      "cell_type": "markdown",
      "metadata": {
        "id": "dAX0lxLbEe8W",
        "colab_type": "text"
      },
      "source": [
        "### 自動回覆模板"
      ]
    },
    {
      "cell_type": "code",
      "metadata": {
        "id": "39uDtd1ih7ia",
        "colab_type": "code",
        "colab": {}
      },
      "source": [
        "label2response = {'建議-APP': '親愛的顧客您好\\n感謝您的支持與愛護，本行將持續改善與精進，我們會把您的意見回饋給相關單位，您寶貴的意見都是讓玉山服務更精進的動力。謝謝您~', \n",
        "                  '建議-信用卡': '親愛的顧客您好\\n感謝您的支持與愛護，本行將持續改善與精進，我們會把您的意見回饋給相關單位，您寶貴的意見都是讓玉山服務更精進的動力。謝謝您~',\n",
        "                  '建議-台幣': '親愛的顧客您好\\n感謝您的支持與愛護，本行將持續改善與精進，我們會把您的意見回饋給相關單位，您寶貴的意見都是讓玉山服務更精進的動力。謝謝您~', \n",
        "                  '抱怨': '親愛的顧客您好\\n造成您的不便，敬請見諒。本行將持續改善與精進，我們會把您的意見回饋給相關單位，您寶貴的意見都是讓玉山服務更精進的動力。謝謝您~',\n",
        "                  '操作問題': '操作問題',\n",
        "                  '未知問題': '親愛的顧客您好\\n感謝您的回饋，為了進一步確認您的問題，以便把您的意見回饋給相關單位，請您使用玉山銀行訪客留言板(https://www.esunbank.com.tw/bank/about/services/customer/message-board)提供您的個人資訊及行動裝置資訊(如手機型號、系統版本、APP版號)或使用智能客服(https://robot.esunbank.com.tw/index.php?eservice=footer&qaCategory=general)，我們將為您服務，謝謝您~。',\n",
        "                  '稱讚': '親愛的顧客您好\\n您的支持與愛護是玉山服務更精進的動力。謝謝您~',\n",
        "                  '第三方問題': '第三方問題',\n",
        "                  '系統問題-Keypasco': '親愛的顧客您好\\n感謝您的回饋，請您嘗試依照下列步驟重新操作。\\n步驟(1)：進入行動銀行APP→選擇側邊選單→ 「設定」→「行動裝置綁定管理」中取消綁定所有設備。\\n步驟(2)： 開啟 Google Play， 搜尋「玉山行動銀行」APP進行解除安裝，並關機。\\n步驟(3)： 重新開機下載行動銀行，再操作裝置綁定及圖形密碼登入流程。\\n造成您的不便，敬請見諒。\\n若仍無法改善您的問題，為了進一步確認您的問題，請您使用玉山銀行訪客留言板(https://www.esunbank.com.tw/bank/about/services/customer/message-board)，提供您的個人資訊及行動裝置資訊(如手機型號、系統版本、APP版號)，謝謝您~',\n",
        "                  '系統問題-bug': '親愛的顧客您好\\n感謝您的回饋，目前已盡速修復中，造成您的不便，敬請見諒。\\n如有任何其他問題，建議您可使用智能客服(https://robot.esunbank.com.tw/index.php?eservice=footer&qaCategory=general)，我們將為您服務，謝謝您~',\n",
        "                  '顧客疑問': '顧客疑問',\n",
        "                  '建議-外幣': '親愛的顧客您好\\n感謝您的回饋。本行將持續改善與精進，我們會把您的意見回饋給相關單位，您寶貴的意見都是讓玉山服務更精進的動力。謝謝您~',\n",
        "                  '建議-財富': '親愛的顧客您好\\n感謝您的回饋。本行將持續改善與精進，我們會把您的意見回饋給相關單位，您寶貴的意見都是讓玉山服務更精進的動力。謝謝您~',\n",
        "                  '建議-已規劃': '親愛的顧客您好\\n感謝您的支持與愛護，本行將持續改善與精進，我們會把您的意見回饋給相關單位，您寶貴的意見都是讓玉山服務更精進的動力。謝謝您~',\n",
        "                  }"
      ],
      "execution_count": 0,
      "outputs": []
    },
    {
      "cell_type": "code",
      "metadata": {
        "id": "mADeuNZzie7j",
        "colab_type": "code",
        "colab": {}
      },
      "source": [
        "index2label = {0: '未知問題',\n",
        "                1: '稱讚',\n",
        "                2: '操作問題',\n",
        "                3: '抱怨',\n",
        "                4: '建議-台幣',\n",
        "                5: '建議-已規劃',\n",
        "                6: '顧客疑問',\n",
        "                7: '建議-信用卡',\n",
        "                8: '第三方問題',\n",
        "                9: '建議-APP',\n",
        "                10: '系統問題-bug',\n",
        "                11: '建議-財富',\n",
        "                12: '建議-外幣',\n",
        "                13: '系統問題-Keypasco'}"
      ],
      "execution_count": 0,
      "outputs": []
    },
    {
      "cell_type": "code",
      "metadata": {
        "id": "-p4RrMzftGPp",
        "colab_type": "code",
        "colab": {}
      },
      "source": [
        "def get_response(df, model):\n",
        "    \"\"\"讀取 app 評論，用 model 進行預測後，增加一欄為自動回覆的內容\n",
        "    Args:\n",
        "        df: app 評論資料，需有 \"question\" 這一欄\n",
        "        model: 用來進行意圖預測的 model\n",
        "    Returns:\n",
        "        response: A list of string with designated response\n",
        "    \"\"\"\n",
        "    app_data = AppCommentData(df, \"test\", tokenizer, 64)\n",
        "    dataloader = app_data.get_dataloader()\n",
        "    predictions = get_predictions(model, dataloader).detach().cpu().numpy()\n",
        "    \n",
        "    pred_label = [index2label[i] for i in predictions]\n",
        "    response = [label2response[label] for label in pred_label]\n",
        "    return response"
      ],
      "execution_count": 0,
      "outputs": []
    },
    {
      "cell_type": "code",
      "metadata": {
        "id": "SkA5uOymTGf9",
        "colab_type": "code",
        "colab": {}
      },
      "source": [
        "def generate_response(inpath, outpath, model):\n",
        "    df = pd.read_excel(inpath)\n",
        "    df = preprocess_app_comment(df, verbose = False)\n",
        "    df = filter_toofew_toolong(df, min_each_group, max_length)\n",
        "    df = append_question_title(df)          # 將問題的標題 append 到問題內文\n",
        "    df = df.loc[:, [\"index\", \"question\"]]   # 只取 'index' 跟 'question' coluumn\n",
        "    \n",
        "    response = get_response(df, model)\n",
        "    \n",
        "    df_autoreply = preprocess_app_comment(inpath)\n",
        "    df_autoreply = filter_toofew_toolong(df_autoreply, args.min_each_group, args.maxlength)\n",
        "    df_autoreply = df_autoreply.iloc[:, :-3]\n",
        "\n",
        "    df_autoreply['自動回覆內容'] = response\n",
        "    df_autoreply.to_excel(outpath)"
      ],
      "execution_count": 0,
      "outputs": []
    },
    {
      "cell_type": "code",
      "metadata": {
        "id": "9GVRQLDLjo-L",
        "colab_type": "code",
        "outputId": "f764d640-7ac5-44c7-d20d-5681fecd9b51",
        "colab": {
          "base_uri": "https://localhost:8080/",
          "height": 375
        }
      },
      "source": [
        "inpath = path\n",
        "model_path = \"model_ep20_eg0_ml150\"\n",
        "model = torch.load(model_path)\n",
        "outpath = \"autoresponse.xlsx\"\n",
        "generate_response(inpath, outpath, model)"
      ],
      "execution_count": 0,
      "outputs": [
        {
          "output_type": "error",
          "ename": "IsADirectoryError",
          "evalue": "ignored",
          "traceback": [
            "\u001b[0;31m---------------------------------------------------------------------------\u001b[0m",
            "\u001b[0;31mIsADirectoryError\u001b[0m                         Traceback (most recent call last)",
            "\u001b[0;32m<ipython-input-27-d75d31fa48e1>\u001b[0m in \u001b[0;36m<module>\u001b[0;34m()\u001b[0m\n\u001b[1;32m      1\u001b[0m \u001b[0minpath\u001b[0m \u001b[0;34m=\u001b[0m \u001b[0mpath\u001b[0m\u001b[0;34m\u001b[0m\u001b[0;34m\u001b[0m\u001b[0m\n\u001b[1;32m      2\u001b[0m \u001b[0mmodel_path\u001b[0m \u001b[0;34m=\u001b[0m \u001b[0;34m\"model_ep20_eg0_ml150\"\u001b[0m\u001b[0;34m\u001b[0m\u001b[0;34m\u001b[0m\u001b[0m\n\u001b[0;32m----> 3\u001b[0;31m \u001b[0mmodel\u001b[0m \u001b[0;34m=\u001b[0m \u001b[0mtorch\u001b[0m\u001b[0;34m.\u001b[0m\u001b[0mload\u001b[0m\u001b[0;34m(\u001b[0m\u001b[0mmodel_path\u001b[0m\u001b[0;34m)\u001b[0m\u001b[0;34m\u001b[0m\u001b[0;34m\u001b[0m\u001b[0m\n\u001b[0m\u001b[1;32m      4\u001b[0m \u001b[0moutpath\u001b[0m \u001b[0;34m=\u001b[0m \u001b[0;34m\"autoresponse.xlsx\"\u001b[0m\u001b[0;34m\u001b[0m\u001b[0;34m\u001b[0m\u001b[0m\n\u001b[1;32m      5\u001b[0m \u001b[0mgenerate_response\u001b[0m\u001b[0;34m(\u001b[0m\u001b[0minpath\u001b[0m\u001b[0;34m,\u001b[0m \u001b[0moutpath\u001b[0m\u001b[0;34m,\u001b[0m \u001b[0mmodel\u001b[0m\u001b[0;34m)\u001b[0m\u001b[0;34m\u001b[0m\u001b[0;34m\u001b[0m\u001b[0m\n",
            "\u001b[0;32m/usr/local/lib/python3.6/dist-packages/torch/serialization.py\u001b[0m in \u001b[0;36mload\u001b[0;34m(f, map_location, pickle_module, **pickle_load_args)\u001b[0m\n\u001b[1;32m    582\u001b[0m         \u001b[0mpickle_load_args\u001b[0m\u001b[0;34m[\u001b[0m\u001b[0;34m'encoding'\u001b[0m\u001b[0;34m]\u001b[0m \u001b[0;34m=\u001b[0m \u001b[0;34m'utf-8'\u001b[0m\u001b[0;34m\u001b[0m\u001b[0;34m\u001b[0m\u001b[0m\n\u001b[1;32m    583\u001b[0m \u001b[0;34m\u001b[0m\u001b[0m\n\u001b[0;32m--> 584\u001b[0;31m     \u001b[0;32mwith\u001b[0m \u001b[0m_open_file_like\u001b[0m\u001b[0;34m(\u001b[0m\u001b[0mf\u001b[0m\u001b[0;34m,\u001b[0m \u001b[0;34m'rb'\u001b[0m\u001b[0;34m)\u001b[0m \u001b[0;32mas\u001b[0m \u001b[0mopened_file\u001b[0m\u001b[0;34m:\u001b[0m\u001b[0;34m\u001b[0m\u001b[0;34m\u001b[0m\u001b[0m\n\u001b[0m\u001b[1;32m    585\u001b[0m         \u001b[0;32mif\u001b[0m \u001b[0m_is_zipfile\u001b[0m\u001b[0;34m(\u001b[0m\u001b[0mopened_file\u001b[0m\u001b[0;34m)\u001b[0m\u001b[0;34m:\u001b[0m\u001b[0;34m\u001b[0m\u001b[0;34m\u001b[0m\u001b[0m\n\u001b[1;32m    586\u001b[0m             \u001b[0;32mwith\u001b[0m \u001b[0m_open_zipfile_reader\u001b[0m\u001b[0;34m(\u001b[0m\u001b[0mf\u001b[0m\u001b[0;34m)\u001b[0m \u001b[0;32mas\u001b[0m \u001b[0mopened_zipfile\u001b[0m\u001b[0;34m:\u001b[0m\u001b[0;34m\u001b[0m\u001b[0;34m\u001b[0m\u001b[0m\n",
            "\u001b[0;32m/usr/local/lib/python3.6/dist-packages/torch/serialization.py\u001b[0m in \u001b[0;36m_open_file_like\u001b[0;34m(name_or_buffer, mode)\u001b[0m\n\u001b[1;32m    232\u001b[0m \u001b[0;32mdef\u001b[0m \u001b[0m_open_file_like\u001b[0m\u001b[0;34m(\u001b[0m\u001b[0mname_or_buffer\u001b[0m\u001b[0;34m,\u001b[0m \u001b[0mmode\u001b[0m\u001b[0;34m)\u001b[0m\u001b[0;34m:\u001b[0m\u001b[0;34m\u001b[0m\u001b[0;34m\u001b[0m\u001b[0m\n\u001b[1;32m    233\u001b[0m     \u001b[0;32mif\u001b[0m \u001b[0m_is_path\u001b[0m\u001b[0;34m(\u001b[0m\u001b[0mname_or_buffer\u001b[0m\u001b[0;34m)\u001b[0m\u001b[0;34m:\u001b[0m\u001b[0;34m\u001b[0m\u001b[0;34m\u001b[0m\u001b[0m\n\u001b[0;32m--> 234\u001b[0;31m         \u001b[0;32mreturn\u001b[0m \u001b[0m_open_file\u001b[0m\u001b[0;34m(\u001b[0m\u001b[0mname_or_buffer\u001b[0m\u001b[0;34m,\u001b[0m \u001b[0mmode\u001b[0m\u001b[0;34m)\u001b[0m\u001b[0;34m\u001b[0m\u001b[0;34m\u001b[0m\u001b[0m\n\u001b[0m\u001b[1;32m    235\u001b[0m     \u001b[0;32melse\u001b[0m\u001b[0;34m:\u001b[0m\u001b[0;34m\u001b[0m\u001b[0;34m\u001b[0m\u001b[0m\n\u001b[1;32m    236\u001b[0m         \u001b[0;32mif\u001b[0m \u001b[0;34m'w'\u001b[0m \u001b[0;32min\u001b[0m \u001b[0mmode\u001b[0m\u001b[0;34m:\u001b[0m\u001b[0;34m\u001b[0m\u001b[0;34m\u001b[0m\u001b[0m\n",
            "\u001b[0;32m/usr/local/lib/python3.6/dist-packages/torch/serialization.py\u001b[0m in \u001b[0;36m__init__\u001b[0;34m(self, name, mode)\u001b[0m\n\u001b[1;32m    213\u001b[0m \u001b[0;32mclass\u001b[0m \u001b[0m_open_file\u001b[0m\u001b[0;34m(\u001b[0m\u001b[0m_opener\u001b[0m\u001b[0;34m)\u001b[0m\u001b[0;34m:\u001b[0m\u001b[0;34m\u001b[0m\u001b[0;34m\u001b[0m\u001b[0m\n\u001b[1;32m    214\u001b[0m     \u001b[0;32mdef\u001b[0m \u001b[0m__init__\u001b[0m\u001b[0;34m(\u001b[0m\u001b[0mself\u001b[0m\u001b[0;34m,\u001b[0m \u001b[0mname\u001b[0m\u001b[0;34m,\u001b[0m \u001b[0mmode\u001b[0m\u001b[0;34m)\u001b[0m\u001b[0;34m:\u001b[0m\u001b[0;34m\u001b[0m\u001b[0;34m\u001b[0m\u001b[0m\n\u001b[0;32m--> 215\u001b[0;31m         \u001b[0msuper\u001b[0m\u001b[0;34m(\u001b[0m\u001b[0m_open_file\u001b[0m\u001b[0;34m,\u001b[0m \u001b[0mself\u001b[0m\u001b[0;34m)\u001b[0m\u001b[0;34m.\u001b[0m\u001b[0m__init__\u001b[0m\u001b[0;34m(\u001b[0m\u001b[0mopen\u001b[0m\u001b[0;34m(\u001b[0m\u001b[0mname\u001b[0m\u001b[0;34m,\u001b[0m \u001b[0mmode\u001b[0m\u001b[0;34m)\u001b[0m\u001b[0;34m)\u001b[0m\u001b[0;34m\u001b[0m\u001b[0;34m\u001b[0m\u001b[0m\n\u001b[0m\u001b[1;32m    216\u001b[0m \u001b[0;34m\u001b[0m\u001b[0m\n\u001b[1;32m    217\u001b[0m     \u001b[0;32mdef\u001b[0m \u001b[0m__exit__\u001b[0m\u001b[0;34m(\u001b[0m\u001b[0mself\u001b[0m\u001b[0;34m,\u001b[0m \u001b[0;34m*\u001b[0m\u001b[0margs\u001b[0m\u001b[0;34m)\u001b[0m\u001b[0;34m:\u001b[0m\u001b[0;34m\u001b[0m\u001b[0;34m\u001b[0m\u001b[0m\n",
            "\u001b[0;31mIsADirectoryError\u001b[0m: [Errno 21] Is a directory: 'model_ep20_eg0_ml150'"
          ]
        }
      ]
    },
    {
      "cell_type": "code",
      "metadata": {
        "id": "UavqV18iA2yh",
        "colab_type": "code",
        "colab": {}
      },
      "source": [
        ""
      ],
      "execution_count": 0,
      "outputs": []
    },
    {
      "cell_type": "markdown",
      "metadata": {
        "id": "4xekcO7NA6mu",
        "colab_type": "text"
      },
      "source": [
        "### Presentation"
      ]
    },
    {
      "cell_type": "code",
      "metadata": {
        "id": "8dHZtDzyA3IZ",
        "colab_type": "code",
        "outputId": "23f31026-c02b-4a91-f41c-515580309705",
        "colab": {
          "base_uri": "https://localhost:8080/",
          "height": 289
        }
      },
      "source": [
        "# 個別檢查\n",
        "# labels: ('未知問題','操作問題','稱讚','建議-台幣','抱怨','建議-信用卡','建議-APP','顧客疑問','系統問題-bug','第三方問題','系統問題-Keypasco')\n",
        "i = label2index['未知問題']\n",
        "print_summary_i(app_test.df, i, class_matrix, index2label, false_group, predictions, firstK = 5)\n"
      ],
      "execution_count": 0,
      "outputs": [
        {
          "output_type": "stream",
          "text": [
            "類別: 未知問題 \t 測試集筆數: 64\n",
            "被分類器正確分類的機率: 76.5625 %\n",
            "最常被分錯的組別: 抱怨  筆數: 6.0\n",
            "\n",
            "轉帳明細頁面壞了嗎明明有轉帳了 \n",
            "但交易明細頁面都沒顯示出金額耶！\n",
            "不知道哪時能修好 不然很麻煩😥\n",
            "\t被分成: 抱怨\n",
            "存摺備註\n",
            "\t被分成: 建議-台幣\n",
            "以前有用過玉山銀行的信用卡，但點書不知有沒有剩餘價值\n",
            "\t被分成: 顧客疑問\n",
            "台幣活存、台幣定存、外幣活存、外幣定存加總起來都跟首頁圓圈內的數字不吻合。請開發者修正此問題，謝謝。\n",
            "\t被分成: 顧客疑問\n",
            "信用卡分期還要跟銀行要授權碼??其他銀行都不用就玉山最多此一舉\n",
            "\t被分成: 操作問題\n"
          ],
          "name": "stdout"
        }
      ]
    },
    {
      "cell_type": "code",
      "metadata": {
        "id": "z0KT9GGBA_-a",
        "colab_type": "code",
        "colab": {}
      },
      "source": [
        ""
      ],
      "execution_count": 0,
      "outputs": []
    },
    {
      "cell_type": "markdown",
      "metadata": {
        "id": "9Ku-AiVtmsf0",
        "colab_type": "text"
      },
      "source": [
        "### save/read model from gdrive"
      ]
    },
    {
      "cell_type": "code",
      "metadata": {
        "id": "weN8gu8wlxAJ",
        "colab_type": "code",
        "outputId": "f2084b7f-5dbb-4196-9f99-c6cac1df5af6",
        "colab": {
          "base_uri": "https://localhost:8080/",
          "height": 122
        }
      },
      "source": [
        "from google.colab import drive\n",
        "drive.mount('/content/drive')"
      ],
      "execution_count": 0,
      "outputs": [
        {
          "output_type": "stream",
          "text": [
            "Go to this URL in a browser: https://accounts.google.com/o/oauth2/auth?client_id=947318989803-6bn6qk8qdgf4n4g3pfee6491hc0brc4i.apps.googleusercontent.com&redirect_uri=urn%3aietf%3awg%3aoauth%3a2.0%3aoob&response_type=code&scope=email%20https%3a%2f%2fwww.googleapis.com%2fauth%2fdocs.test%20https%3a%2f%2fwww.googleapis.com%2fauth%2fdrive%20https%3a%2f%2fwww.googleapis.com%2fauth%2fdrive.photos.readonly%20https%3a%2f%2fwww.googleapis.com%2fauth%2fpeopleapi.readonly\n",
            "\n",
            "Enter your authorization code:\n",
            "··········\n",
            "Mounted at /content/drive\n"
          ],
          "name": "stdout"
        }
      ]
    },
    {
      "cell_type": "code",
      "metadata": {
        "id": "jRuJIpKaofxf",
        "colab_type": "code",
        "colab": {}
      },
      "source": [
        "!cp -r model_ep20_eg0_ml150/ \"drive/My Drive/ESUN\""
      ],
      "execution_count": 0,
      "outputs": []
    },
    {
      "cell_type": "code",
      "metadata": {
        "id": "qAm3mu-HQe_J",
        "colab_type": "code",
        "colab": {}
      },
      "source": [
        "!cp -r 待檢查_除只有組織.xlsx \"drive/My Drive/\""
      ],
      "execution_count": 0,
      "outputs": []
    },
    {
      "cell_type": "code",
      "metadata": {
        "id": "XC5y2d3SmBZF",
        "colab_type": "code",
        "colab": {}
      },
      "source": [
        "!cp -r /content/model_ep20_eg0_ml100 \"drive/My Drive/ESUN/0317_app_comment\""
      ],
      "execution_count": 0,
      "outputs": []
    },
    {
      "cell_type": "code",
      "metadata": {
        "id": "fFaRHQasmXJF",
        "colab_type": "code",
        "colab": {}
      },
      "source": [
        "!cp -r \"drive/My Drive/ESUN/0317_app_comment/model_ep20_eg0_ml100\" ."
      ],
      "execution_count": 0,
      "outputs": []
    },
    {
      "cell_type": "code",
      "metadata": {
        "id": "60NTI73Qmbct",
        "colab_type": "code",
        "outputId": "8e6fa32d-2e1b-4eb1-e971-15f14fc18c9d",
        "colab": {
          "base_uri": "https://localhost:8080/",
          "height": 1000
        }
      },
      "source": [
        "model_dir = \"model_ep20_eg0_ml100\"\n",
        "model = BertForSequenceClassification.from_pretrained(model_dir)\n",
        "device = torch.device(\"cuda:0\" if torch.cuda.is_available() else \"cpu\")\n",
        "tokenizer = BertTokenizer.from_pretrained(model_dir)\n",
        "\n",
        "model.to(device)"
      ],
      "execution_count": 0,
      "outputs": [
        {
          "output_type": "execute_result",
          "data": {
            "text/plain": [
              "BertForSequenceClassification(\n",
              "  (bert): BertModel(\n",
              "    (embeddings): BertEmbeddings(\n",
              "      (word_embeddings): Embedding(21128, 768, padding_idx=0)\n",
              "      (position_embeddings): Embedding(512, 768)\n",
              "      (token_type_embeddings): Embedding(2, 768)\n",
              "      (LayerNorm): LayerNorm((768,), eps=1e-12, elementwise_affine=True)\n",
              "      (dropout): Dropout(p=0.1, inplace=False)\n",
              "    )\n",
              "    (encoder): BertEncoder(\n",
              "      (layer): ModuleList(\n",
              "        (0): BertLayer(\n",
              "          (attention): BertAttention(\n",
              "            (self): BertSelfAttention(\n",
              "              (query): Linear(in_features=768, out_features=768, bias=True)\n",
              "              (key): Linear(in_features=768, out_features=768, bias=True)\n",
              "              (value): Linear(in_features=768, out_features=768, bias=True)\n",
              "              (dropout): Dropout(p=0.1, inplace=False)\n",
              "            )\n",
              "            (output): BertSelfOutput(\n",
              "              (dense): Linear(in_features=768, out_features=768, bias=True)\n",
              "              (LayerNorm): LayerNorm((768,), eps=1e-12, elementwise_affine=True)\n",
              "              (dropout): Dropout(p=0.1, inplace=False)\n",
              "            )\n",
              "          )\n",
              "          (intermediate): BertIntermediate(\n",
              "            (dense): Linear(in_features=768, out_features=3072, bias=True)\n",
              "          )\n",
              "          (output): BertOutput(\n",
              "            (dense): Linear(in_features=3072, out_features=768, bias=True)\n",
              "            (LayerNorm): LayerNorm((768,), eps=1e-12, elementwise_affine=True)\n",
              "            (dropout): Dropout(p=0.1, inplace=False)\n",
              "          )\n",
              "        )\n",
              "        (1): BertLayer(\n",
              "          (attention): BertAttention(\n",
              "            (self): BertSelfAttention(\n",
              "              (query): Linear(in_features=768, out_features=768, bias=True)\n",
              "              (key): Linear(in_features=768, out_features=768, bias=True)\n",
              "              (value): Linear(in_features=768, out_features=768, bias=True)\n",
              "              (dropout): Dropout(p=0.1, inplace=False)\n",
              "            )\n",
              "            (output): BertSelfOutput(\n",
              "              (dense): Linear(in_features=768, out_features=768, bias=True)\n",
              "              (LayerNorm): LayerNorm((768,), eps=1e-12, elementwise_affine=True)\n",
              "              (dropout): Dropout(p=0.1, inplace=False)\n",
              "            )\n",
              "          )\n",
              "          (intermediate): BertIntermediate(\n",
              "            (dense): Linear(in_features=768, out_features=3072, bias=True)\n",
              "          )\n",
              "          (output): BertOutput(\n",
              "            (dense): Linear(in_features=3072, out_features=768, bias=True)\n",
              "            (LayerNorm): LayerNorm((768,), eps=1e-12, elementwise_affine=True)\n",
              "            (dropout): Dropout(p=0.1, inplace=False)\n",
              "          )\n",
              "        )\n",
              "        (2): BertLayer(\n",
              "          (attention): BertAttention(\n",
              "            (self): BertSelfAttention(\n",
              "              (query): Linear(in_features=768, out_features=768, bias=True)\n",
              "              (key): Linear(in_features=768, out_features=768, bias=True)\n",
              "              (value): Linear(in_features=768, out_features=768, bias=True)\n",
              "              (dropout): Dropout(p=0.1, inplace=False)\n",
              "            )\n",
              "            (output): BertSelfOutput(\n",
              "              (dense): Linear(in_features=768, out_features=768, bias=True)\n",
              "              (LayerNorm): LayerNorm((768,), eps=1e-12, elementwise_affine=True)\n",
              "              (dropout): Dropout(p=0.1, inplace=False)\n",
              "            )\n",
              "          )\n",
              "          (intermediate): BertIntermediate(\n",
              "            (dense): Linear(in_features=768, out_features=3072, bias=True)\n",
              "          )\n",
              "          (output): BertOutput(\n",
              "            (dense): Linear(in_features=3072, out_features=768, bias=True)\n",
              "            (LayerNorm): LayerNorm((768,), eps=1e-12, elementwise_affine=True)\n",
              "            (dropout): Dropout(p=0.1, inplace=False)\n",
              "          )\n",
              "        )\n",
              "        (3): BertLayer(\n",
              "          (attention): BertAttention(\n",
              "            (self): BertSelfAttention(\n",
              "              (query): Linear(in_features=768, out_features=768, bias=True)\n",
              "              (key): Linear(in_features=768, out_features=768, bias=True)\n",
              "              (value): Linear(in_features=768, out_features=768, bias=True)\n",
              "              (dropout): Dropout(p=0.1, inplace=False)\n",
              "            )\n",
              "            (output): BertSelfOutput(\n",
              "              (dense): Linear(in_features=768, out_features=768, bias=True)\n",
              "              (LayerNorm): LayerNorm((768,), eps=1e-12, elementwise_affine=True)\n",
              "              (dropout): Dropout(p=0.1, inplace=False)\n",
              "            )\n",
              "          )\n",
              "          (intermediate): BertIntermediate(\n",
              "            (dense): Linear(in_features=768, out_features=3072, bias=True)\n",
              "          )\n",
              "          (output): BertOutput(\n",
              "            (dense): Linear(in_features=3072, out_features=768, bias=True)\n",
              "            (LayerNorm): LayerNorm((768,), eps=1e-12, elementwise_affine=True)\n",
              "            (dropout): Dropout(p=0.1, inplace=False)\n",
              "          )\n",
              "        )\n",
              "        (4): BertLayer(\n",
              "          (attention): BertAttention(\n",
              "            (self): BertSelfAttention(\n",
              "              (query): Linear(in_features=768, out_features=768, bias=True)\n",
              "              (key): Linear(in_features=768, out_features=768, bias=True)\n",
              "              (value): Linear(in_features=768, out_features=768, bias=True)\n",
              "              (dropout): Dropout(p=0.1, inplace=False)\n",
              "            )\n",
              "            (output): BertSelfOutput(\n",
              "              (dense): Linear(in_features=768, out_features=768, bias=True)\n",
              "              (LayerNorm): LayerNorm((768,), eps=1e-12, elementwise_affine=True)\n",
              "              (dropout): Dropout(p=0.1, inplace=False)\n",
              "            )\n",
              "          )\n",
              "          (intermediate): BertIntermediate(\n",
              "            (dense): Linear(in_features=768, out_features=3072, bias=True)\n",
              "          )\n",
              "          (output): BertOutput(\n",
              "            (dense): Linear(in_features=3072, out_features=768, bias=True)\n",
              "            (LayerNorm): LayerNorm((768,), eps=1e-12, elementwise_affine=True)\n",
              "            (dropout): Dropout(p=0.1, inplace=False)\n",
              "          )\n",
              "        )\n",
              "        (5): BertLayer(\n",
              "          (attention): BertAttention(\n",
              "            (self): BertSelfAttention(\n",
              "              (query): Linear(in_features=768, out_features=768, bias=True)\n",
              "              (key): Linear(in_features=768, out_features=768, bias=True)\n",
              "              (value): Linear(in_features=768, out_features=768, bias=True)\n",
              "              (dropout): Dropout(p=0.1, inplace=False)\n",
              "            )\n",
              "            (output): BertSelfOutput(\n",
              "              (dense): Linear(in_features=768, out_features=768, bias=True)\n",
              "              (LayerNorm): LayerNorm((768,), eps=1e-12, elementwise_affine=True)\n",
              "              (dropout): Dropout(p=0.1, inplace=False)\n",
              "            )\n",
              "          )\n",
              "          (intermediate): BertIntermediate(\n",
              "            (dense): Linear(in_features=768, out_features=3072, bias=True)\n",
              "          )\n",
              "          (output): BertOutput(\n",
              "            (dense): Linear(in_features=3072, out_features=768, bias=True)\n",
              "            (LayerNorm): LayerNorm((768,), eps=1e-12, elementwise_affine=True)\n",
              "            (dropout): Dropout(p=0.1, inplace=False)\n",
              "          )\n",
              "        )\n",
              "        (6): BertLayer(\n",
              "          (attention): BertAttention(\n",
              "            (self): BertSelfAttention(\n",
              "              (query): Linear(in_features=768, out_features=768, bias=True)\n",
              "              (key): Linear(in_features=768, out_features=768, bias=True)\n",
              "              (value): Linear(in_features=768, out_features=768, bias=True)\n",
              "              (dropout): Dropout(p=0.1, inplace=False)\n",
              "            )\n",
              "            (output): BertSelfOutput(\n",
              "              (dense): Linear(in_features=768, out_features=768, bias=True)\n",
              "              (LayerNorm): LayerNorm((768,), eps=1e-12, elementwise_affine=True)\n",
              "              (dropout): Dropout(p=0.1, inplace=False)\n",
              "            )\n",
              "          )\n",
              "          (intermediate): BertIntermediate(\n",
              "            (dense): Linear(in_features=768, out_features=3072, bias=True)\n",
              "          )\n",
              "          (output): BertOutput(\n",
              "            (dense): Linear(in_features=3072, out_features=768, bias=True)\n",
              "            (LayerNorm): LayerNorm((768,), eps=1e-12, elementwise_affine=True)\n",
              "            (dropout): Dropout(p=0.1, inplace=False)\n",
              "          )\n",
              "        )\n",
              "        (7): BertLayer(\n",
              "          (attention): BertAttention(\n",
              "            (self): BertSelfAttention(\n",
              "              (query): Linear(in_features=768, out_features=768, bias=True)\n",
              "              (key): Linear(in_features=768, out_features=768, bias=True)\n",
              "              (value): Linear(in_features=768, out_features=768, bias=True)\n",
              "              (dropout): Dropout(p=0.1, inplace=False)\n",
              "            )\n",
              "            (output): BertSelfOutput(\n",
              "              (dense): Linear(in_features=768, out_features=768, bias=True)\n",
              "              (LayerNorm): LayerNorm((768,), eps=1e-12, elementwise_affine=True)\n",
              "              (dropout): Dropout(p=0.1, inplace=False)\n",
              "            )\n",
              "          )\n",
              "          (intermediate): BertIntermediate(\n",
              "            (dense): Linear(in_features=768, out_features=3072, bias=True)\n",
              "          )\n",
              "          (output): BertOutput(\n",
              "            (dense): Linear(in_features=3072, out_features=768, bias=True)\n",
              "            (LayerNorm): LayerNorm((768,), eps=1e-12, elementwise_affine=True)\n",
              "            (dropout): Dropout(p=0.1, inplace=False)\n",
              "          )\n",
              "        )\n",
              "        (8): BertLayer(\n",
              "          (attention): BertAttention(\n",
              "            (self): BertSelfAttention(\n",
              "              (query): Linear(in_features=768, out_features=768, bias=True)\n",
              "              (key): Linear(in_features=768, out_features=768, bias=True)\n",
              "              (value): Linear(in_features=768, out_features=768, bias=True)\n",
              "              (dropout): Dropout(p=0.1, inplace=False)\n",
              "            )\n",
              "            (output): BertSelfOutput(\n",
              "              (dense): Linear(in_features=768, out_features=768, bias=True)\n",
              "              (LayerNorm): LayerNorm((768,), eps=1e-12, elementwise_affine=True)\n",
              "              (dropout): Dropout(p=0.1, inplace=False)\n",
              "            )\n",
              "          )\n",
              "          (intermediate): BertIntermediate(\n",
              "            (dense): Linear(in_features=768, out_features=3072, bias=True)\n",
              "          )\n",
              "          (output): BertOutput(\n",
              "            (dense): Linear(in_features=3072, out_features=768, bias=True)\n",
              "            (LayerNorm): LayerNorm((768,), eps=1e-12, elementwise_affine=True)\n",
              "            (dropout): Dropout(p=0.1, inplace=False)\n",
              "          )\n",
              "        )\n",
              "        (9): BertLayer(\n",
              "          (attention): BertAttention(\n",
              "            (self): BertSelfAttention(\n",
              "              (query): Linear(in_features=768, out_features=768, bias=True)\n",
              "              (key): Linear(in_features=768, out_features=768, bias=True)\n",
              "              (value): Linear(in_features=768, out_features=768, bias=True)\n",
              "              (dropout): Dropout(p=0.1, inplace=False)\n",
              "            )\n",
              "            (output): BertSelfOutput(\n",
              "              (dense): Linear(in_features=768, out_features=768, bias=True)\n",
              "              (LayerNorm): LayerNorm((768,), eps=1e-12, elementwise_affine=True)\n",
              "              (dropout): Dropout(p=0.1, inplace=False)\n",
              "            )\n",
              "          )\n",
              "          (intermediate): BertIntermediate(\n",
              "            (dense): Linear(in_features=768, out_features=3072, bias=True)\n",
              "          )\n",
              "          (output): BertOutput(\n",
              "            (dense): Linear(in_features=3072, out_features=768, bias=True)\n",
              "            (LayerNorm): LayerNorm((768,), eps=1e-12, elementwise_affine=True)\n",
              "            (dropout): Dropout(p=0.1, inplace=False)\n",
              "          )\n",
              "        )\n",
              "        (10): BertLayer(\n",
              "          (attention): BertAttention(\n",
              "            (self): BertSelfAttention(\n",
              "              (query): Linear(in_features=768, out_features=768, bias=True)\n",
              "              (key): Linear(in_features=768, out_features=768, bias=True)\n",
              "              (value): Linear(in_features=768, out_features=768, bias=True)\n",
              "              (dropout): Dropout(p=0.1, inplace=False)\n",
              "            )\n",
              "            (output): BertSelfOutput(\n",
              "              (dense): Linear(in_features=768, out_features=768, bias=True)\n",
              "              (LayerNorm): LayerNorm((768,), eps=1e-12, elementwise_affine=True)\n",
              "              (dropout): Dropout(p=0.1, inplace=False)\n",
              "            )\n",
              "          )\n",
              "          (intermediate): BertIntermediate(\n",
              "            (dense): Linear(in_features=768, out_features=3072, bias=True)\n",
              "          )\n",
              "          (output): BertOutput(\n",
              "            (dense): Linear(in_features=3072, out_features=768, bias=True)\n",
              "            (LayerNorm): LayerNorm((768,), eps=1e-12, elementwise_affine=True)\n",
              "            (dropout): Dropout(p=0.1, inplace=False)\n",
              "          )\n",
              "        )\n",
              "        (11): BertLayer(\n",
              "          (attention): BertAttention(\n",
              "            (self): BertSelfAttention(\n",
              "              (query): Linear(in_features=768, out_features=768, bias=True)\n",
              "              (key): Linear(in_features=768, out_features=768, bias=True)\n",
              "              (value): Linear(in_features=768, out_features=768, bias=True)\n",
              "              (dropout): Dropout(p=0.1, inplace=False)\n",
              "            )\n",
              "            (output): BertSelfOutput(\n",
              "              (dense): Linear(in_features=768, out_features=768, bias=True)\n",
              "              (LayerNorm): LayerNorm((768,), eps=1e-12, elementwise_affine=True)\n",
              "              (dropout): Dropout(p=0.1, inplace=False)\n",
              "            )\n",
              "          )\n",
              "          (intermediate): BertIntermediate(\n",
              "            (dense): Linear(in_features=768, out_features=3072, bias=True)\n",
              "          )\n",
              "          (output): BertOutput(\n",
              "            (dense): Linear(in_features=3072, out_features=768, bias=True)\n",
              "            (LayerNorm): LayerNorm((768,), eps=1e-12, elementwise_affine=True)\n",
              "            (dropout): Dropout(p=0.1, inplace=False)\n",
              "          )\n",
              "        )\n",
              "      )\n",
              "    )\n",
              "    (pooler): BertPooler(\n",
              "      (dense): Linear(in_features=768, out_features=768, bias=True)\n",
              "      (activation): Tanh()\n",
              "    )\n",
              "  )\n",
              "  (dropout): Dropout(p=0.1, inplace=False)\n",
              "  (classifier): Linear(in_features=768, out_features=14, bias=True)\n",
              ")"
            ]
          },
          "metadata": {
            "tags": []
          },
          "execution_count": 18
        }
      ]
    },
    {
      "cell_type": "code",
      "metadata": {
        "id": "j3rZwDUfe-Al",
        "colab_type": "code",
        "colab": {}
      },
      "source": [
        ""
      ],
      "execution_count": 0,
      "outputs": []
    }
  ]
}