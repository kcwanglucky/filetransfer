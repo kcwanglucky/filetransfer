{
  "nbformat": 4,
  "nbformat_minor": 0,
  "metadata": {
    "colab": {
      "name": "app_comment.ipynb",
      "provenance": [],
      "collapsed_sections": [],
      "toc_visible": true,
      "machine_shape": "hm",
      "authorship_tag": "ABX9TyOaH4bBug0VWuq34Ggp1peW",
      "include_colab_link": true
    },
    "kernelspec": {
      "name": "python3",
      "display_name": "Python 3"
    },
    "accelerator": "GPU"
  },
  "cells": [
    {
      "cell_type": "markdown",
      "metadata": {
        "id": "view-in-github",
        "colab_type": "text"
      },
      "source": [
        "<a href=\"https://colab.research.google.com/github/kcwanglucky/filetransfer/blob/master/app_comment.ipynb\" target=\"_parent\"><img src=\"https://colab.research.google.com/assets/colab-badge.svg\" alt=\"Open In Colab\"/></a>"
      ]
    },
    {
      "cell_type": "markdown",
      "metadata": {
        "id": "c_JgXntS29zF",
        "colab_type": "text"
      },
      "source": [
        "Provide \"/content/20190508起APP評論.xlsx\" or whatever app comment file with similar format"
      ]
    },
    {
      "cell_type": "code",
      "metadata": {
        "id": "-bKdcMMnWJk4",
        "colab_type": "code",
        "outputId": "df82be4a-2e9a-4dfd-eb40-28fd1afe3dc3",
        "colab": {
          "base_uri": "https://localhost:8080/",
          "height": 136
        }
      },
      "source": [
        "!git clone https://github.com/kcwanglucky/BertSequenceClassification_streamline.git"
      ],
      "execution_count": 0,
      "outputs": [
        {
          "output_type": "stream",
          "text": [
            "Cloning into 'BertSequenceClassification_streamline'...\n",
            "remote: Enumerating objects: 9, done.\u001b[K\n",
            "remote: Counting objects: 100% (9/9), done.\u001b[K\n",
            "remote: Compressing objects: 100% (7/7), done.\u001b[K\n",
            "remote: Total 173 (delta 3), reused 7 (delta 2), pack-reused 164\u001b[K\n",
            "Receiving objects: 100% (173/173), 79.39 KiB | 846.00 KiB/s, done.\n",
            "Resolving deltas: 100% (104/104), done.\n"
          ],
          "name": "stdout"
        }
      ]
    },
    {
      "cell_type": "code",
      "metadata": {
        "id": "2YqGo0RWRxGr",
        "colab_type": "code",
        "outputId": "081e8b36-465a-4b48-edc8-f5c0faf808ef",
        "colab": {
          "base_uri": "https://localhost:8080/",
          "height": 581
        }
      },
      "source": [
        "!pip install transformers"
      ],
      "execution_count": 0,
      "outputs": [
        {
          "output_type": "stream",
          "text": [
            "Collecting transformers\n",
            "\u001b[?25l  Downloading https://files.pythonhosted.org/packages/12/b5/ac41e3e95205ebf53439e4dd087c58e9fd371fd8e3724f2b9b4cdb8282e5/transformers-2.10.0-py3-none-any.whl (660kB)\n",
            "\r\u001b[K     |▌                               | 10kB 17.7MB/s eta 0:00:01\r\u001b[K     |█                               | 20kB 4.2MB/s eta 0:00:01\r\u001b[K     |█▌                              | 30kB 5.9MB/s eta 0:00:01\r\u001b[K     |██                              | 40kB 7.6MB/s eta 0:00:01\r\u001b[K     |██▌                             | 51kB 4.9MB/s eta 0:00:01\r\u001b[K     |███                             | 61kB 5.7MB/s eta 0:00:01\r\u001b[K     |███▌                            | 71kB 6.5MB/s eta 0:00:01\r\u001b[K     |████                            | 81kB 6.9MB/s eta 0:00:01\r\u001b[K     |████▌                           | 92kB 5.8MB/s eta 0:00:01\r\u001b[K     |█████                           | 102kB 6.3MB/s eta 0:00:01\r\u001b[K     |█████▌                          | 112kB 6.3MB/s eta 0:00:01\r\u001b[K     |██████                          | 122kB 6.3MB/s eta 0:00:01\r\u001b[K     |██████▌                         | 133kB 6.3MB/s eta 0:00:01\r\u001b[K     |███████                         | 143kB 6.3MB/s eta 0:00:01\r\u001b[K     |███████▌                        | 153kB 6.3MB/s eta 0:00:01\r\u001b[K     |████████                        | 163kB 6.3MB/s eta 0:00:01\r\u001b[K     |████████▍                       | 174kB 6.3MB/s eta 0:00:01\r\u001b[K     |█████████                       | 184kB 6.3MB/s eta 0:00:01\r\u001b[K     |█████████▍                      | 194kB 6.3MB/s eta 0:00:01\r\u001b[K     |██████████                      | 204kB 6.3MB/s eta 0:00:01\r\u001b[K     |██████████▍                     | 215kB 6.3MB/s eta 0:00:01\r\u001b[K     |███████████                     | 225kB 6.3MB/s eta 0:00:01\r\u001b[K     |███████████▍                    | 235kB 6.3MB/s eta 0:00:01\r\u001b[K     |████████████                    | 245kB 6.3MB/s eta 0:00:01\r\u001b[K     |████████████▍                   | 256kB 6.3MB/s eta 0:00:01\r\u001b[K     |█████████████                   | 266kB 6.3MB/s eta 0:00:01\r\u001b[K     |█████████████▍                  | 276kB 6.3MB/s eta 0:00:01\r\u001b[K     |██████████████                  | 286kB 6.3MB/s eta 0:00:01\r\u001b[K     |██████████████▍                 | 296kB 6.3MB/s eta 0:00:01\r\u001b[K     |███████████████                 | 307kB 6.3MB/s eta 0:00:01\r\u001b[K     |███████████████▍                | 317kB 6.3MB/s eta 0:00:01\r\u001b[K     |███████████████▉                | 327kB 6.3MB/s eta 0:00:01\r\u001b[K     |████████████████▍               | 337kB 6.3MB/s eta 0:00:01\r\u001b[K     |████████████████▉               | 348kB 6.3MB/s eta 0:00:01\r\u001b[K     |█████████████████▍              | 358kB 6.3MB/s eta 0:00:01\r\u001b[K     |█████████████████▉              | 368kB 6.3MB/s eta 0:00:01\r\u001b[K     |██████████████████▍             | 378kB 6.3MB/s eta 0:00:01\r\u001b[K     |██████████████████▉             | 389kB 6.3MB/s eta 0:00:01\r\u001b[K     |███████████████████▍            | 399kB 6.3MB/s eta 0:00:01\r\u001b[K     |███████████████████▉            | 409kB 6.3MB/s eta 0:00:01\r\u001b[K     |████████████████████▍           | 419kB 6.3MB/s eta 0:00:01\r\u001b[K     |████████████████████▉           | 430kB 6.3MB/s eta 0:00:01\r\u001b[K     |█████████████████████▍          | 440kB 6.3MB/s eta 0:00:01\r\u001b[K     |█████████████████████▉          | 450kB 6.3MB/s eta 0:00:01\r\u001b[K     |██████████████████████▍         | 460kB 6.3MB/s eta 0:00:01\r\u001b[K     |██████████████████████▉         | 471kB 6.3MB/s eta 0:00:01\r\u001b[K     |███████████████████████▎        | 481kB 6.3MB/s eta 0:00:01\r\u001b[K     |███████████████████████▉        | 491kB 6.3MB/s eta 0:00:01\r\u001b[K     |████████████████████████▎       | 501kB 6.3MB/s eta 0:00:01\r\u001b[K     |████████████████████████▉       | 512kB 6.3MB/s eta 0:00:01\r\u001b[K     |█████████████████████████▎      | 522kB 6.3MB/s eta 0:00:01\r\u001b[K     |█████████████████████████▉      | 532kB 6.3MB/s eta 0:00:01\r\u001b[K     |██████████████████████████▎     | 542kB 6.3MB/s eta 0:00:01\r\u001b[K     |██████████████████████████▉     | 552kB 6.3MB/s eta 0:00:01\r\u001b[K     |███████████████████████████▎    | 563kB 6.3MB/s eta 0:00:01\r\u001b[K     |███████████████████████████▉    | 573kB 6.3MB/s eta 0:00:01\r\u001b[K     |████████████████████████████▎   | 583kB 6.3MB/s eta 0:00:01\r\u001b[K     |████████████████████████████▉   | 593kB 6.3MB/s eta 0:00:01\r\u001b[K     |█████████████████████████████▎  | 604kB 6.3MB/s eta 0:00:01\r\u001b[K     |█████████████████████████████▉  | 614kB 6.3MB/s eta 0:00:01\r\u001b[K     |██████████████████████████████▎ | 624kB 6.3MB/s eta 0:00:01\r\u001b[K     |██████████████████████████████▊ | 634kB 6.3MB/s eta 0:00:01\r\u001b[K     |███████████████████████████████▎| 645kB 6.3MB/s eta 0:00:01\r\u001b[K     |███████████████████████████████▊| 655kB 6.3MB/s eta 0:00:01\r\u001b[K     |████████████████████████████████| 665kB 6.3MB/s \n",
            "\u001b[?25hRequirement already satisfied: filelock in /usr/local/lib/python3.6/dist-packages (from transformers) (3.0.12)\n",
            "Requirement already satisfied: regex!=2019.12.17 in /usr/local/lib/python3.6/dist-packages (from transformers) (2019.12.20)\n",
            "Collecting sentencepiece\n",
            "\u001b[?25l  Downloading https://files.pythonhosted.org/packages/d4/a4/d0a884c4300004a78cca907a6ff9a5e9fe4f090f5d95ab341c53d28cbc58/sentencepiece-0.1.91-cp36-cp36m-manylinux1_x86_64.whl (1.1MB)\n",
            "\u001b[K     |████████████████████████████████| 1.1MB 40.0MB/s \n",
            "\u001b[?25hCollecting tokenizers==0.7.0\n",
            "\u001b[?25l  Downloading https://files.pythonhosted.org/packages/14/e5/a26eb4716523808bb0a799fcfdceb6ebf77a18169d9591b2f46a9adb87d9/tokenizers-0.7.0-cp36-cp36m-manylinux1_x86_64.whl (3.8MB)\n",
            "\u001b[K     |████████████████████████████████| 3.8MB 49.8MB/s \n",
            "\u001b[?25hCollecting sacremoses\n",
            "\u001b[?25l  Downloading https://files.pythonhosted.org/packages/7d/34/09d19aff26edcc8eb2a01bed8e98f13a1537005d31e95233fd48216eed10/sacremoses-0.0.43.tar.gz (883kB)\n",
            "\u001b[K     |████████████████████████████████| 890kB 43.4MB/s \n",
            "\u001b[?25hRequirement already satisfied: numpy in /usr/local/lib/python3.6/dist-packages (from transformers) (1.18.4)\n",
            "Requirement already satisfied: requests in /usr/local/lib/python3.6/dist-packages (from transformers) (2.23.0)\n",
            "Requirement already satisfied: tqdm>=4.27 in /usr/local/lib/python3.6/dist-packages (from transformers) (4.41.1)\n",
            "Requirement already satisfied: dataclasses; python_version < \"3.7\" in /usr/local/lib/python3.6/dist-packages (from transformers) (0.7)\n",
            "Requirement already satisfied: six in /usr/local/lib/python3.6/dist-packages (from sacremoses->transformers) (1.12.0)\n",
            "Requirement already satisfied: click in /usr/local/lib/python3.6/dist-packages (from sacremoses->transformers) (7.1.2)\n",
            "Requirement already satisfied: joblib in /usr/local/lib/python3.6/dist-packages (from sacremoses->transformers) (0.15.1)\n",
            "Requirement already satisfied: chardet<4,>=3.0.2 in /usr/local/lib/python3.6/dist-packages (from requests->transformers) (3.0.4)\n",
            "Requirement already satisfied: urllib3!=1.25.0,!=1.25.1,<1.26,>=1.21.1 in /usr/local/lib/python3.6/dist-packages (from requests->transformers) (1.24.3)\n",
            "Requirement already satisfied: idna<3,>=2.5 in /usr/local/lib/python3.6/dist-packages (from requests->transformers) (2.9)\n",
            "Requirement already satisfied: certifi>=2017.4.17 in /usr/local/lib/python3.6/dist-packages (from requests->transformers) (2020.4.5.1)\n",
            "Building wheels for collected packages: sacremoses\n",
            "  Building wheel for sacremoses (setup.py) ... \u001b[?25l\u001b[?25hdone\n",
            "  Created wheel for sacremoses: filename=sacremoses-0.0.43-cp36-none-any.whl size=893260 sha256=b4b3b59c32e49ae1db616a725ebca35970c6cc4eec03f4bce8b96feffd455739\n",
            "  Stored in directory: /root/.cache/pip/wheels/29/3c/fd/7ce5c3f0666dab31a50123635e6fb5e19ceb42ce38d4e58f45\n",
            "Successfully built sacremoses\n",
            "Installing collected packages: sentencepiece, tokenizers, sacremoses, transformers\n",
            "Successfully installed sacremoses-0.0.43 sentencepiece-0.1.91 tokenizers-0.7.0 transformers-2.10.0\n"
          ],
          "name": "stdout"
        }
      ]
    },
    {
      "cell_type": "markdown",
      "metadata": {
        "id": "YDiEb-y8SrVe",
        "colab_type": "text"
      },
      "source": [
        "Idea:\n",
        "1.   13 reponses with > 5 counts automatically form groups. Try to put the other 129 types into the aforementioned 13 groups if certain conditions meet (consine similarity of Bert embeddings, etc.). If not, put into a separate group.\n",
        "\n",
        "    > Result:\n",
        "        *   Directly assigned to the group with highest cossim: 60ep - train acc~ 99%, test acc~ 45%\n",
        "        *   If max consim < 98.5%, create a separate group: 60ep - train acc~ 98.4%, test acc~ 44%\n",
        "        *   dropna the \"index\" and \"question\" columns:  \n",
        "        1) 15ep - train acc~ 98%, test acc~ 73% (ep15_eg5_ml30)  \n",
        "        2) 35ep - train acc~ 99%, test acc~ 65% (param: ep35_eg5_ml50)  \n",
        "        3) model_ep20_eg0_ml40 - train acc~ 99%, test acc~ 63%  \n",
        "        4) model_ep25_eg5_ml30 - train acc~ 99%, test acc~ 72.3%  \n",
        "        5) model_ep25_eg0_ml30 - train acc~ 99%, test acc~ 66%  \n",
        "        6) model_ep25_eg0_ml50 - train acc~ 98%, test acc~ 68%  \n",
        "        7) model_ep25_eg5_ml30 - train acc~ 99%, test acc~ 71.5%  \n",
        "        \n",
        "\n",
        "\n",
        "\n",
        "\n",
        "2.   Do a binary classification first based on sentiment (稱讚 vs 抱怨) Then build a bert multilabel classifier as usual\n",
        "\n",
        "    > Result:\n",
        "        *   Step 1 (Binary):  \n",
        "        model_ep25_eg0_ml50 - Train acc: 99.9% Test accuracy: 98.59%  \n",
        "            -> 目前的 dataset 已能蠻正確分類出稱讚的評論  \n",
        "        *   Step 2 (Multiclass):  \n",
        "        model_ep25_eg0_ml50 - Train acc: 98% Test accuracy: 53%  \n",
        "            -> 爛在這QQ\n",
        "\n",
        "\n",
        "\n",
        "\n",
        "\n",
        "\n"
      ]
    },
    {
      "cell_type": "code",
      "metadata": {
        "id": "JI1VeVihXslj",
        "colab_type": "code",
        "colab": {}
      },
      "source": [
        "import pandas as pd\n",
        "import numpy as np\n",
        "from sklearn.metrics.pairwise import cosine_similarity\n",
        "from transformers import BertModel, BertTokenizer\n",
        "import torch\n",
        "import matplotlib as mpl\n",
        "import matplotlib.pyplot as plt\n",
        "import matplotlib.font_manager as fm\n",
        "from BertSequenceClassification_streamline.bert_downstream_classification import *"
      ],
      "execution_count": 0,
      "outputs": []
    },
    {
      "cell_type": "code",
      "metadata": {
        "id": "dkhTbNh880kg",
        "colab_type": "code",
        "colab": {}
      },
      "source": [
        "def let_colab_print_chinese():\n",
        "    \"\"\"Download the required font to print chinese characters on plots created by matplotlib\n",
        "    Returns:\n",
        "        FontProperties: when provide it as an argument to plt.plot graphs,\n",
        "                        chinese character can be displayed\n",
        "    \"\"\"\n",
        "    !wget \"https://noto-website-2.storage.googleapis.com/pkgs/NotoSansCJKkr-hinted.zip\"\n",
        "    !unzip \"NotoSansCJKkr-hinted.zip\"\n",
        "    !mv NotoSansCJKkr-Medium.otf /usr/share/fonts/truetype/\n",
        "    path = '/usr/share/fonts/truetype/NotoSansCJKkr-Medium.otf'\n",
        "    fontprop = fm.FontProperties(fname=path, size= 12)\n",
        "    return fontprop"
      ],
      "execution_count": 0,
      "outputs": []
    },
    {
      "cell_type": "code",
      "metadata": {
        "id": "mnXYTnbqK5-X",
        "colab_type": "code",
        "colab": {}
      },
      "source": [
        "def preprocess_app_comment(path, verbose = False):\n",
        "    \"\"\"讀取 app comment\n",
        "    Args:\n",
        "        path (str): path to the app comment file\n",
        "        verbose (int): If True, print 各類別對應的筆數\n",
        "    Returns:\n",
        "        DataFrame: The DataFrame with only relevant data\n",
        "    \"\"\"\n",
        "    df_all = pd.read_excel(path)\n",
        "    df_all.rename(columns={\"評論內容\": \"question\", \"類別\": \"index\"}, inplace = True)\n",
        "    df_all.dropna(axis = 0, how = 'any', subset=[\"question\", \"index\"], inplace = True)\n",
        "    df_all.to_csv(\"all_app_comment.csv\")\n",
        "    if verbose:\n",
        "        print(df_all['index'].value_counts())\n",
        "    return df_all"
      ],
      "execution_count": 0,
      "outputs": []
    },
    {
      "cell_type": "code",
      "metadata": {
        "id": "lR9SYMVLeyPk",
        "colab_type": "code",
        "colab": {}
      },
      "source": [
        "\"\"\"得到此 dataframe 的訓練分布 (分類:筆數)\n",
        "   df: \"pd.DataFrame\" type\n",
        "\"\"\"\n",
        "def get_dist(df, index2label, verbose = False):\n",
        "    each_count = df['index'].value_counts()\n",
        "    if verbose:\n",
        "        print(\"所有 data 各類分布: \\n\")\n",
        "        for index in each_count.index:\n",
        "            print(\"{:15} 數量: {}\".format(index, each_count[index] ))\n",
        "    return each_count"
      ],
      "execution_count": 0,
      "outputs": []
    },
    {
      "cell_type": "code",
      "metadata": {
        "id": "v5SWFiSILhD6",
        "colab_type": "code",
        "colab": {}
      },
      "source": [
        "\"\"\"得到此 dataset 的訓練分布 (分類:筆數)\n",
        "   dataset: \"Dataset\" type\n",
        "\"\"\"\n",
        "def get_dataset_dist(mode, dataset, index2label, verbose = False):\n",
        "    def get_index2label(i):\n",
        "        return index2label[i]\n",
        "    index_list = dataset.df['index'].apply(get_index2label) \n",
        "\n",
        "    each_count = index_list .value_counts()\n",
        "    if verbose:\n",
        "        print(mode + \"set 各類分布: \\n\")\n",
        "        for idx in each_count.index:\n",
        "            print(\"{:15} 數量: {}\".format(index2label[idx], each_count[idx] ))\n",
        "    return each_count "
      ],
      "execution_count": 0,
      "outputs": []
    },
    {
      "cell_type": "code",
      "metadata": {
        "id": "73yjCbaa64Al",
        "colab_type": "code",
        "colab": {}
      },
      "source": [
        "def plot_pie(mode, dist):\n",
        "    plt.figure(figsize=(10, 10), facecolor=\"w\")\n",
        "    plt.title(\"{}set Distribution ({} data)\".format(mode, sum(dist)), fontsize=16)\n",
        "    patches, l_text, p_text = plt.pie(dist, autopct=\"%1.1f%%\",\n",
        "                                    textprops = {\"fontsize\" : 12}, labeldistance=1.05)\n",
        "    for i, t in enumerate(l_text): \n",
        "        t.set_text(dist.index[i])\n",
        "        t.set_fontproperties(fontprop)\n",
        "        #t.set_color('red')\n",
        "        pct = float(p_text[i].get_text().strip('%'))\n",
        "        #print(pct)\n",
        "        if pct < 0.8:\n",
        "            p_text[i].set_text(\"\")\n",
        "            l_text[i].set_text(\"\")\n",
        "        #p_text[i].set_color('red')\n",
        "    # 把每個文字設成中文字型\n",
        "    plt.show()"
      ],
      "execution_count": 0,
      "outputs": []
    },
    {
      "cell_type": "code",
      "metadata": {
        "id": "1u_wl-4VsD0K",
        "colab_type": "code",
        "outputId": "cebe6617-eaaa-4e64-decb-92385bb70ea1",
        "colab": {
          "base_uri": "https://localhost:8080/",
          "height": 428
        }
      },
      "source": [
        "# 為了讓 colab 能 print 中文\n",
        "fontprop = let_colab_print_chinese()\n",
        "#fm.FontProperties(fname='/usr/share/fonts/truetype/NotoSansCJKkr-Medium.otf', size= 12)"
      ],
      "execution_count": 0,
      "outputs": [
        {
          "output_type": "stream",
          "text": [
            "--2020-05-24 17:30:58--  https://noto-website-2.storage.googleapis.com/pkgs/NotoSansCJKkr-hinted.zip\n",
            "Resolving noto-website-2.storage.googleapis.com (noto-website-2.storage.googleapis.com)... 108.177.15.128, 2a00:1450:400c:c0c::80\n",
            "Connecting to noto-website-2.storage.googleapis.com (noto-website-2.storage.googleapis.com)|108.177.15.128|:443... connected.\n",
            "HTTP request sent, awaiting response... 200 OK\n",
            "Length: 121163981 (116M) [application/zip]\n",
            "Saving to: ‘NotoSansCJKkr-hinted.zip’\n",
            "\n",
            "NotoSansCJKkr-hinte 100%[===================>] 115.55M  45.1MB/s    in 2.6s    \n",
            "\n",
            "2020-05-24 17:31:02 (45.1 MB/s) - ‘NotoSansCJKkr-hinted.zip’ saved [121163981/121163981]\n",
            "\n",
            "Archive:  NotoSansCJKkr-hinted.zip\n",
            "  inflating: LICENSE_OFL.txt         \n",
            "  inflating: NotoSansCJKkr-Black.otf  \n",
            "  inflating: NotoSansCJKkr-Bold.otf  \n",
            "  inflating: NotoSansCJKkr-DemiLight.otf  \n",
            "  inflating: NotoSansCJKkr-Light.otf  \n",
            "  inflating: NotoSansCJKkr-Medium.otf  \n",
            "  inflating: NotoSansCJKkr-Regular.otf  \n",
            "  inflating: NotoSansCJKkr-Thin.otf  \n",
            "  inflating: NotoSansMonoCJKkr-Bold.otf  \n",
            "  inflating: NotoSansMonoCJKkr-Regular.otf  \n",
            "  inflating: README                  \n"
          ],
          "name": "stdout"
        }
      ]
    },
    {
      "cell_type": "code",
      "metadata": {
        "id": "s_jNzVhNxqut",
        "colab_type": "code",
        "colab": {}
      },
      "source": [
        "\"\"\"set the arguments if not using a command line \"\"\"\n",
        "class Args:\n",
        "    #data_path = 'all_app_comment.csv'\n",
        "    epoch = 25\n",
        "    batch_size = 64\n",
        "    min_each_group = 0                     # 每組至少要有幾筆才被放入訓練集\n",
        "    maxlength = 1000                          # 若app comment評論超過此長度則刪除\n",
        "    model_output = 'model_ep25_eg5_ml50'\n",
        "    #model_start = \"app_all1\"\n",
        "args = Args()"
      ],
      "execution_count": 0,
      "outputs": []
    },
    {
      "cell_type": "code",
      "metadata": {
        "id": "clMCVSWZadH6",
        "colab_type": "code",
        "colab": {}
      },
      "source": [
        "df1 = pd.read_excel(\"20190508起APP評論.xlsx\")\n",
        "#preprocess_app_comment(\"20190508起APP評論.xlsx\")"
      ],
      "execution_count": 0,
      "outputs": []
    },
    {
      "cell_type": "code",
      "metadata": {
        "id": "hPyuKNkKsovO",
        "colab_type": "code",
        "outputId": "bb03bfb3-d09c-4ded-fb3f-8c71585deb65",
        "colab": {
          "base_uri": "https://localhost:8080/",
          "height": 34
        }
      },
      "source": [
        "len(df1)"
      ],
      "execution_count": 0,
      "outputs": [
        {
          "output_type": "execute_result",
          "data": {
            "text/plain": [
              "2163"
            ]
          },
          "metadata": {
            "tags": []
          },
          "execution_count": 10
        }
      ]
    },
    {
      "cell_type": "code",
      "metadata": {
        "id": "FTijMIthafmQ",
        "colab_type": "code",
        "colab": {}
      },
      "source": [
        "df1 = df1.loc[:, [\"index\", \"question\"]]  "
      ],
      "execution_count": 0,
      "outputs": []
    },
    {
      "cell_type": "code",
      "metadata": {
        "id": "6tIoB3OkaiHX",
        "colab_type": "code",
        "colab": {}
      },
      "source": [
        "long_question_idx = [len(question) > 50 for question in df1['question']]"
      ],
      "execution_count": 0,
      "outputs": []
    },
    {
      "cell_type": "code",
      "metadata": {
        "id": "uiBBdgriaySy",
        "colab_type": "code",
        "outputId": "6776c773-2670-4ef9-ff29-d45b0a5f369c",
        "colab": {
          "base_uri": "https://localhost:8080/",
          "height": 68
        }
      },
      "source": [
        "df1[long_question_idx].iloc[2]"
      ],
      "execution_count": 0,
      "outputs": [
        {
          "output_type": "execute_result",
          "data": {
            "text/plain": [
              "index                                                    未知問題\n",
              "question    這個程式太不人性化第一次使用者一定要先至電腦進入注冊完成之才能選行手機設定(注冊)在手機A ...\n",
              "Name: 54, dtype: object"
            ]
          },
          "metadata": {
            "tags": []
          },
          "execution_count": 72
        }
      ]
    },
    {
      "cell_type": "code",
      "metadata": {
        "id": "q7JicOHDaS9Y",
        "colab_type": "code",
        "outputId": "25b005be-06ae-4cbb-e085-584662ef3ad6",
        "colab": {
          "base_uri": "https://localhost:8080/",
          "height": 34
        }
      },
      "source": [
        "len(df)"
      ],
      "execution_count": 0,
      "outputs": [
        {
          "output_type": "execute_result",
          "data": {
            "text/plain": [
              "1742"
            ]
          },
          "metadata": {
            "tags": []
          },
          "execution_count": 62
        }
      ]
    },
    {
      "cell_type": "code",
      "metadata": {
        "id": "9PLs8NYG7oJk",
        "colab_type": "code",
        "colab": {}
      },
      "source": [
        "df = preprocess_app_comment(\"20190508起APP評論.xlsx\")\n",
        "df = df.loc[:, [\"index\", \"question\"]]       # get 'index' and 'question' coluumn\n",
        "df = filter_toofew_toolong(df, args.min_each_group, args.maxlength)\n",
        "index = df['index']\n",
        "index2label = {idx:val for idx, val in enumerate(index.unique())}\n",
        "num_index = len(index2label)"
      ],
      "execution_count": 0,
      "outputs": []
    },
    {
      "cell_type": "code",
      "metadata": {
        "id": "EU0erSyB7u-r",
        "colab_type": "code",
        "colab": {}
      },
      "source": [
        "data_dist = get_dist(df, index2label)"
      ],
      "execution_count": 0,
      "outputs": []
    },
    {
      "cell_type": "code",
      "metadata": {
        "id": "0RGKaFRH1Ctx",
        "colab_type": "code",
        "outputId": "fcec8f25-d40c-4e5f-bba1-fab8733184f7",
        "colab": {
          "base_uri": "https://localhost:8080/",
          "height": 830
        }
      },
      "source": [
        "plot_pie(\"Data\", data_dist)"
      ],
      "execution_count": 0,
      "outputs": [
        {
          "output_type": "stream",
          "text": [
            "31.3\n",
            "26.0\n",
            "11.5\n",
            "8.9\n",
            "5.4\n",
            "4.6\n",
            "4.1\n",
            "2.7\n",
            "2.3\n",
            "1.7\n",
            "0.9\n",
            "0.2\n",
            "0.1\n",
            "0.1\n"
          ],
          "name": "stdout"
        },
        {
          "output_type": "display_data",
          "data": {
            "image/png": "[encoded data removed]",
            "text/plain": [
              "<Figure size 720x720 with 1 Axes>"
            ]
          },
          "metadata": {
            "tags": []
          }
        }
      ]
    },
    {
      "cell_type": "markdown",
      "metadata": {
        "id": "JEX6FTGz-wBF",
        "colab_type": "text"
      },
      "source": [
        "由於 “第三方問題” “建議\b-台幣” “顧客疑慮” 筆數過少，利用設 \"args.min_each_group\" 參數來將之排除在分類器的訓練集裡。若將來有更多資料，就可重新放入訓練"
      ]
    },
    {
      "cell_type": "code",
      "metadata": {
        "id": "QZITYhaKiZwg",
        "colab_type": "code",
        "colab": {}
      },
      "source": [
        "\"\"\"預備訓練模型\"\"\" \n",
        "def get_dataloader_numlabels(df, min_each_group, maxlength, batch_size):\n",
        "    \n",
        "    df, NUM_LABELS = preprocessing(df, min_each_group, maxlength)   # preprocessed\n",
        "\n",
        "    df_train, df_val, df_test = output_split(df, 0.7)\n",
        "\n",
        "    PRETRAINED_MODEL_NAME = \"bert-base-chinese\"\n",
        "    # 取得此預訓練模型所使用的 tokenizer\n",
        "    tokenizer = BertTokenizer.from_pretrained(PRETRAINED_MODEL_NAME)\n",
        "    clear_output()\n",
        "\n",
        "    # 初始化一個專門讀取訓練樣本的 Dataset，使用中文 BERT 斷詞\n",
        "    trainset = getOnlineQueryDataset(\"train\", df_train, tokenizer)\n",
        "    valset = getOnlineQueryDataset(\"val\", df_val, tokenizer)\n",
        "    testset = getOnlineQueryDataset(\"test\", df_test, tokenizer)\n",
        "\n",
        "    # 初始化一個每次回傳 64 個訓練樣本的 DataLoader\n",
        "    # 利用 collate_fn 將 list of samples 合併成一個 mini-batch\n",
        "    BATCH_SIZE = batch_size\n",
        "    trainloader = DataLoader(trainset, batch_size=BATCH_SIZE, shuffle=True,  \n",
        "                            collate_fn=create_mini_batch)\n",
        "    valloader = DataLoader(valset, batch_size=BATCH_SIZE,  \n",
        "                            collate_fn=create_mini_batch)\n",
        "    testloader = DataLoader(testset, batch_size=BATCH_SIZE, \n",
        "                        collate_fn=create_mini_batch)\n",
        "    return trainset, valset, testset, trainloader, valloader, testloader, NUM_LABELS"
      ],
      "execution_count": 0,
      "outputs": []
    },
    {
      "cell_type": "code",
      "metadata": {
        "id": "ftkO8Cr3yS3J",
        "colab_type": "code",
        "colab": {}
      },
      "source": [
        "trainset, valset, testset, trainloader, valloader, testloader, NUM_LABELS = \\\n",
        "get_dataloader_numlabels(df, args.min_each_group, args.maxlength, args.batch_size)"
      ],
      "execution_count": 0,
      "outputs": []
    },
    {
      "cell_type": "code",
      "metadata": {
        "id": "nnANWTQk7VxL",
        "colab_type": "code",
        "colab": {}
      },
      "source": [
        "train_dist = get_dataset_dist(\"train\", trainset, index2label)\n",
        "val_dist = get_dataset_dist(\"val\", valset, index2label)\n",
        "test_dist = get_dataset_dist(\"test\", testset, index2label)"
      ],
      "execution_count": 0,
      "outputs": []
    },
    {
      "cell_type": "code",
      "metadata": {
        "id": "KtZ57LisAjZn",
        "colab_type": "code",
        "outputId": "157b6fab-a99b-4a76-8469-6d2f846b7bf6",
        "colab": {
          "base_uri": "https://localhost:8080/",
          "height": 592
        }
      },
      "source": [
        "plot_pie(\"Train\", train_dist)"
      ],
      "execution_count": 0,
      "outputs": [
        {
          "output_type": "display_data",
          "data": {
            "image/png": "[encoded data removed]",
            "text/plain": [
              "<Figure size 720x720 with 1 Axes>"
            ]
          },
          "metadata": {
            "tags": []
          }
        }
      ]
    },
    {
      "cell_type": "markdown",
      "metadata": {
        "id": "dmmRmeMFsmsa",
        "colab_type": "text"
      },
      "source": [
        "訓練集的設計是要讓各類的比例與實際 dataset 一樣"
      ]
    },
    {
      "cell_type": "code",
      "metadata": {
        "id": "WG96sYdyAbqo",
        "colab_type": "code",
        "outputId": "292eeb69-7ba3-4648-9438-361ea81cab0f",
        "colab": {
          "base_uri": "https://localhost:8080/",
          "height": 592
        }
      },
      "source": [
        "plot_pie(\"Test\", test_dist)"
      ],
      "execution_count": 0,
      "outputs": [
        {
          "output_type": "display_data",
          "data": {
            "image/png": "[encoded data removed]",
            "text/plain": [
              "<Figure size 720x720 with 1 Axes>"
            ]
          },
          "metadata": {
            "tags": []
          }
        }
      ]
    },
    {
      "cell_type": "code",
      "metadata": {
        "id": "rtjLjSHotZxB",
        "colab_type": "code",
        "outputId": "f6d58e35-e787-44ff-a2ab-a8808dd90970",
        "colab": {
          "base_uri": "https://localhost:8080/",
          "height": 1000
        }
      },
      "source": [
        "# if args.model_start:    # If model_start is provided, then initialize model with the existing model\n",
        "#     PRETRAINED_MODEL_NAME = args.model_start\n",
        "PRETRAINED_MODEL_NAME = \"bert-base-chinese\"\n",
        "tokenizer = BertTokenizer.from_pretrained(PRETRAINED_MODEL_NAME)\n",
        "\n",
        "model = train(trainloader, valloader, PRETRAINED_MODEL_NAME, NUM_LABELS, args.epoch)\n",
        "save_model(args, args.model_output, model, tokenizer)\n",
        "\n",
        "predictions = get_predictions(model, testloader).detach().cpu().numpy()\n",
        "\n",
        "# if args.model_prediction:\n",
        "#     write_prediction(args.model_prediction, predictions)\n",
        "\n",
        "# if 'index' in testset.df:      # If we have labels on test set, we can calculate the accuracy\n",
        "#     # 用分類模型預測測試集\n",
        "#     test_label = testset.df['index']\n",
        "#     print(\"Testset accuracy: %f\" % plain_accuracy(test_label, predictions))\n"
      ],
      "execution_count": 0,
      "outputs": [
        {
          "output_type": "stream",
          "text": [
            "device: cuda:0\n",
            "\n",
            "======== Epoch 1 / 25 ========\n",
            "Training...\n",
            "loss: 39.883, acc: 0.448\n",
            "\n",
            "Running Validation...\n",
            "  Accuracy: 0.43\n",
            "\n",
            "======== Epoch 2 / 25 ========\n",
            "Training...\n",
            "loss: 30.826, acc: 0.541\n",
            "\n",
            "Running Validation...\n",
            "  Accuracy: 0.51\n",
            "\n",
            "======== Epoch 3 / 25 ========\n",
            "Training...\n",
            "loss: 26.111, acc: 0.600\n",
            "\n",
            "Running Validation...\n",
            "  Accuracy: 0.58\n",
            "\n",
            "======== Epoch 4 / 25 ========\n",
            "Training...\n",
            "loss: 22.713, acc: 0.639\n",
            "\n",
            "Running Validation...\n",
            "  Accuracy: 0.59\n",
            "\n",
            "======== Epoch 5 / 25 ========\n",
            "Training...\n",
            "loss: 19.947, acc: 0.697\n",
            "\n",
            "Running Validation...\n",
            "  Accuracy: 0.62\n",
            "\n",
            "======== Epoch 6 / 25 ========\n",
            "Training...\n",
            "loss: 17.126, acc: 0.733\n",
            "\n",
            "Running Validation...\n",
            "  Accuracy: 0.60\n",
            "\n",
            "======== Epoch 7 / 25 ========\n",
            "Training...\n",
            "loss: 15.276, acc: 0.783\n",
            "\n",
            "Running Validation...\n",
            "  Accuracy: 0.61\n",
            "\n",
            "======== Epoch 8 / 25 ========\n",
            "Training...\n",
            "loss: 13.127, acc: 0.804\n",
            "\n",
            "Running Validation...\n",
            "  Accuracy: 0.60\n",
            "\n",
            "======== Epoch 9 / 25 ========\n",
            "Training...\n",
            "loss: 11.296, acc: 0.850\n",
            "\n",
            "Running Validation...\n",
            "  Accuracy: 0.64\n",
            "\n",
            "======== Epoch 10 / 25 ========\n",
            "Training...\n",
            "loss: 9.868, acc: 0.883\n",
            "\n",
            "Running Validation...\n",
            "  Accuracy: 0.62\n",
            "\n",
            "======== Epoch 11 / 25 ========\n",
            "Training...\n",
            "loss: 8.449, acc: 0.911\n",
            "\n",
            "Running Validation...\n",
            "  Accuracy: 0.62\n",
            "\n",
            "======== Epoch 12 / 25 ========\n",
            "Training...\n",
            "loss: 7.380, acc: 0.924\n",
            "\n",
            "Running Validation...\n",
            "  Accuracy: 0.59\n",
            "\n",
            "======== Epoch 13 / 25 ========\n",
            "Training...\n",
            "loss: 6.480, acc: 0.946\n",
            "\n",
            "Running Validation...\n",
            "  Accuracy: 0.66\n",
            "\n",
            "======== Epoch 14 / 25 ========\n",
            "Training...\n",
            "loss: 5.811, acc: 0.946\n",
            "\n",
            "Running Validation...\n",
            "  Accuracy: 0.63\n",
            "\n",
            "======== Epoch 15 / 25 ========\n",
            "Training...\n",
            "loss: 4.808, acc: 0.953\n",
            "\n",
            "Running Validation...\n",
            "  Accuracy: 0.59\n",
            "\n",
            "======== Epoch 16 / 25 ========\n",
            "Training...\n",
            "loss: 4.187, acc: 0.967\n",
            "\n",
            "Running Validation...\n",
            "  Accuracy: 0.63\n",
            "\n",
            "======== Epoch 17 / 25 ========\n",
            "Training...\n",
            "loss: 3.694, acc: 0.967\n",
            "\n",
            "Running Validation...\n",
            "  Accuracy: 0.59\n",
            "\n",
            "======== Epoch 18 / 25 ========\n",
            "Training...\n",
            "loss: 3.194, acc: 0.972\n",
            "\n",
            "Running Validation...\n",
            "  Accuracy: 0.62\n",
            "\n",
            "======== Epoch 19 / 25 ========\n",
            "Training...\n",
            "loss: 2.838, acc: 0.967\n",
            "\n",
            "Running Validation...\n",
            "  Accuracy: 0.61\n",
            "\n",
            "======== Epoch 20 / 25 ========\n",
            "Training...\n",
            "loss: 2.783, acc: 0.976\n",
            "\n",
            "Running Validation...\n",
            "  Accuracy: 0.62\n",
            "\n",
            "======== Epoch 21 / 25 ========\n",
            "Training...\n",
            "loss: 2.163, acc: 0.986\n",
            "\n",
            "Running Validation...\n",
            "  Accuracy: 0.63\n",
            "\n",
            "======== Epoch 22 / 25 ========\n",
            "Training...\n",
            "loss: 2.101, acc: 0.983\n",
            "\n",
            "Running Validation...\n",
            "  Accuracy: 0.63\n",
            "\n",
            "======== Epoch 23 / 25 ========\n",
            "Training...\n",
            "loss: 1.757, acc: 0.986\n",
            "\n",
            "Running Validation...\n",
            "  Accuracy: 0.62\n",
            "\n",
            "======== Epoch 24 / 25 ========\n",
            "Training...\n",
            "loss: 1.402, acc: 0.989\n",
            "\n",
            "Running Validation...\n",
            "  Accuracy: 0.62\n",
            "\n",
            "======== Epoch 25 / 25 ========\n",
            "Training...\n",
            "loss: 1.326, acc: 0.989\n",
            "\n",
            "Running Validation...\n",
            "  Accuracy: 0.62\n",
            "Saving model to model_ep25_eg5_ml50\n"
          ],
          "name": "stdout"
        }
      ]
    },
    {
      "cell_type": "markdown",
      "metadata": {
        "id": "MR9gODDkwSNS",
        "colab_type": "text"
      },
      "source": [
        "Create a gruop-to-group comparison matrix"
      ]
    },
    {
      "cell_type": "code",
      "metadata": {
        "id": "KmwLdtDRLxwZ",
        "colab_type": "code",
        "colab": {}
      },
      "source": [
        "def get_confusion_matrix(true_label, predictions, num_index):\n",
        "    class_matrix = np.zeros(shape=(num_index ,num_index))\n",
        "    false_group = [[] for _ in range(num_index)]\n",
        "    for idx, true, pred in zip(range(len(predictions)),true_label, predictions):\n",
        "        class_matrix[true][pred] += 1\n",
        "        if true != pred:\n",
        "            false_group[true].append(idx)\n",
        "    return class_matrix, false_group\n",
        "true_label = testset.df[\"index\"]\n",
        "class_matrix, false_group = get_confusion_matrix(true_label, predictions, num_index)"
      ],
      "execution_count": 0,
      "outputs": []
    },
    {
      "cell_type": "code",
      "metadata": {
        "id": "gSZ1BTtgMeVd",
        "colab_type": "code",
        "outputId": "cf8ac458-98f1-46fd-91ab-dd5244f3d717",
        "colab": {
          "base_uri": "https://localhost:8080/",
          "height": 34
        }
      },
      "source": [
        "def print_acc(class_matrix):\n",
        "    total = 0\n",
        "    for i in range(num_index):\n",
        "        total += class_matrix[i][i]\n",
        "    print(\"Accuracy: {0}%\".format(100 * total/np.sum(class_matrix)))\n",
        "print_acc(class_matrix)"
      ],
      "execution_count": 0,
      "outputs": [
        {
          "output_type": "stream",
          "text": [
            "Accuracy: 70.53571428571429%\n"
          ],
          "name": "stdout"
        }
      ]
    },
    {
      "cell_type": "code",
      "metadata": {
        "id": "rKcP-wdlZHs7",
        "colab_type": "code",
        "outputId": "54d9e22a-f93c-4c0e-d2ea-135851d476d2",
        "colab": {
          "base_uri": "https://localhost:8080/",
          "height": 407
        }
      },
      "source": [
        "label_list = [index2label[key] for key in index2label]\n",
        "label2index = {val:key for key, val in index2label.items()}\n",
        "summary = pd.DataFrame(class_matrix, dtype = int, columns=label_list, index = label_list )\n",
        "print(\"測試集 confusion matrix:\")\n",
        "summary"
      ],
      "execution_count": 0,
      "outputs": [
        {
          "output_type": "stream",
          "text": [
            "測試集 confusion matrix:\n"
          ],
          "name": "stdout"
        },
        {
          "output_type": "execute_result",
          "data": {
            "text/html": [
              "<div>\n",
              "<style scoped>\n",
              "    .dataframe tbody tr th:only-of-type {\n",
              "        vertical-align: middle;\n",
              "    }\n",
              "\n",
              "    .dataframe tbody tr th {\n",
              "        vertical-align: top;\n",
              "    }\n",
              "\n",
              "    .dataframe thead th {\n",
              "        text-align: right;\n",
              "    }\n",
              "</style>\n",
              "<table border=\"1\" class=\"dataframe\">\n",
              "  <thead>\n",
              "    <tr style=\"text-align: right;\">\n",
              "      <th></th>\n",
              "      <th>未知問題</th>\n",
              "      <th>稱讚</th>\n",
              "      <th>操作問題</th>\n",
              "      <th>抱怨</th>\n",
              "      <th>建議-台幣</th>\n",
              "      <th>建議-信用卡</th>\n",
              "      <th>第三方問題</th>\n",
              "      <th>建議-APP</th>\n",
              "      <th>顧客疑問</th>\n",
              "      <th>系統問題-bug</th>\n",
              "      <th>系統問題-Keypasco</th>\n",
              "    </tr>\n",
              "  </thead>\n",
              "  <tbody>\n",
              "    <tr>\n",
              "      <th>未知問題</th>\n",
              "      <td>46</td>\n",
              "      <td>2</td>\n",
              "      <td>8</td>\n",
              "      <td>3</td>\n",
              "      <td>0</td>\n",
              "      <td>0</td>\n",
              "      <td>0</td>\n",
              "      <td>0</td>\n",
              "      <td>1</td>\n",
              "      <td>0</td>\n",
              "      <td>4</td>\n",
              "    </tr>\n",
              "    <tr>\n",
              "      <th>稱讚</th>\n",
              "      <td>2</td>\n",
              "      <td>67</td>\n",
              "      <td>0</td>\n",
              "      <td>2</td>\n",
              "      <td>0</td>\n",
              "      <td>1</td>\n",
              "      <td>0</td>\n",
              "      <td>0</td>\n",
              "      <td>0</td>\n",
              "      <td>0</td>\n",
              "      <td>1</td>\n",
              "    </tr>\n",
              "    <tr>\n",
              "      <th>操作問題</th>\n",
              "      <td>5</td>\n",
              "      <td>3</td>\n",
              "      <td>9</td>\n",
              "      <td>4</td>\n",
              "      <td>0</td>\n",
              "      <td>0</td>\n",
              "      <td>0</td>\n",
              "      <td>1</td>\n",
              "      <td>0</td>\n",
              "      <td>1</td>\n",
              "      <td>0</td>\n",
              "    </tr>\n",
              "    <tr>\n",
              "      <th>抱怨</th>\n",
              "      <td>1</td>\n",
              "      <td>0</td>\n",
              "      <td>3</td>\n",
              "      <td>13</td>\n",
              "      <td>0</td>\n",
              "      <td>0</td>\n",
              "      <td>0</td>\n",
              "      <td>0</td>\n",
              "      <td>0</td>\n",
              "      <td>0</td>\n",
              "      <td>0</td>\n",
              "    </tr>\n",
              "    <tr>\n",
              "      <th>建議-台幣</th>\n",
              "      <td>0</td>\n",
              "      <td>0</td>\n",
              "      <td>1</td>\n",
              "      <td>0</td>\n",
              "      <td>1</td>\n",
              "      <td>1</td>\n",
              "      <td>0</td>\n",
              "      <td>1</td>\n",
              "      <td>0</td>\n",
              "      <td>0</td>\n",
              "      <td>0</td>\n",
              "    </tr>\n",
              "    <tr>\n",
              "      <th>建議-信用卡</th>\n",
              "      <td>0</td>\n",
              "      <td>0</td>\n",
              "      <td>1</td>\n",
              "      <td>0</td>\n",
              "      <td>0</td>\n",
              "      <td>5</td>\n",
              "      <td>0</td>\n",
              "      <td>0</td>\n",
              "      <td>0</td>\n",
              "      <td>0</td>\n",
              "      <td>0</td>\n",
              "    </tr>\n",
              "    <tr>\n",
              "      <th>第三方問題</th>\n",
              "      <td>1</td>\n",
              "      <td>0</td>\n",
              "      <td>1</td>\n",
              "      <td>0</td>\n",
              "      <td>0</td>\n",
              "      <td>0</td>\n",
              "      <td>0</td>\n",
              "      <td>0</td>\n",
              "      <td>0</td>\n",
              "      <td>0</td>\n",
              "      <td>0</td>\n",
              "    </tr>\n",
              "    <tr>\n",
              "      <th>建議-APP</th>\n",
              "      <td>0</td>\n",
              "      <td>0</td>\n",
              "      <td>2</td>\n",
              "      <td>0</td>\n",
              "      <td>0</td>\n",
              "      <td>0</td>\n",
              "      <td>0</td>\n",
              "      <td>6</td>\n",
              "      <td>1</td>\n",
              "      <td>0</td>\n",
              "      <td>0</td>\n",
              "    </tr>\n",
              "    <tr>\n",
              "      <th>顧客疑問</th>\n",
              "      <td>3</td>\n",
              "      <td>0</td>\n",
              "      <td>1</td>\n",
              "      <td>0</td>\n",
              "      <td>0</td>\n",
              "      <td>0</td>\n",
              "      <td>0</td>\n",
              "      <td>0</td>\n",
              "      <td>1</td>\n",
              "      <td>0</td>\n",
              "      <td>1</td>\n",
              "    </tr>\n",
              "    <tr>\n",
              "      <th>系統問題-bug</th>\n",
              "      <td>2</td>\n",
              "      <td>0</td>\n",
              "      <td>1</td>\n",
              "      <td>1</td>\n",
              "      <td>0</td>\n",
              "      <td>0</td>\n",
              "      <td>0</td>\n",
              "      <td>0</td>\n",
              "      <td>0</td>\n",
              "      <td>5</td>\n",
              "      <td>0</td>\n",
              "    </tr>\n",
              "    <tr>\n",
              "      <th>系統問題-Keypasco</th>\n",
              "      <td>3</td>\n",
              "      <td>0</td>\n",
              "      <td>1</td>\n",
              "      <td>2</td>\n",
              "      <td>0</td>\n",
              "      <td>0</td>\n",
              "      <td>0</td>\n",
              "      <td>0</td>\n",
              "      <td>0</td>\n",
              "      <td>0</td>\n",
              "      <td>5</td>\n",
              "    </tr>\n",
              "  </tbody>\n",
              "</table>\n",
              "</div>"
            ],
            "text/plain": [
              "               未知問題  稱讚  操作問題  抱怨  ...  建議-APP  顧客疑問  系統問題-bug  系統問題-Keypasco\n",
              "未知問題             46   2     8   3  ...       0     1         0              4\n",
              "稱讚                2  67     0   2  ...       0     0         0              1\n",
              "操作問題              5   3     9   4  ...       1     0         1              0\n",
              "抱怨                1   0     3  13  ...       0     0         0              0\n",
              "建議-台幣             0   0     1   0  ...       1     0         0              0\n",
              "建議-信用卡            0   0     1   0  ...       0     0         0              0\n",
              "第三方問題             1   0     1   0  ...       0     0         0              0\n",
              "建議-APP            0   0     2   0  ...       6     1         0              0\n",
              "顧客疑問              3   0     1   0  ...       0     1         0              1\n",
              "系統問題-bug          2   0     1   1  ...       0     0         5              0\n",
              "系統問題-Keypasco     3   0     1   2  ...       0     0         0              5\n",
              "\n",
              "[11 rows x 11 columns]"
            ]
          },
          "metadata": {
            "tags": []
          },
          "execution_count": 48
        }
      ]
    },
    {
      "cell_type": "markdown",
      "metadata": {
        "id": "gO0m1_TA8Xpx",
        "colab_type": "text"
      },
      "source": [
        "上表的左邊是客服標的正確分類，右邊是分類器所做的分類\n",
        "\n",
        "> 1. 大致上來說，稱讚類的問題幾乎都能被正確歸類到稱讚，也就是說我們針對稱讚類問題應該能蠻準確的回覆  \n",
        "2. 蠻多問題會被錯誤的分類到 ”未知問題“ 與 “操作問題” 兩個組別（看 ”未知問題“ 與 “操作問題” 兩欄的分佈） \n",
        "3. “抱怨” 及 “操作問題” 類問題被分到許多不同的組別（看 ”抱怨” 與 “操作問題” 那兩橫列 的分佈） \n",
        "4. 整體而言，“操作問題” 及 “抱怨” 兩類似乎問題較大。若能增加其他分類的資料量的話能對整個分類器的準確率有所幫助\n",
        "\n",
        "\n",
        "\n"
      ]
    },
    {
      "cell_type": "code",
      "metadata": {
        "id": "9qnUZx_cNj50",
        "colab_type": "code",
        "colab": {}
      },
      "source": [
        "\"\"\"print 出第 i 組的分類概覽\n",
        "   包括所有此類的問題， 被錯誤分類成哪個組別\n",
        "\"\"\"\n",
        "def print_summary_i(i, class_matrix, index2label, false_group, topK = 3):\n",
        "    num_each_group = np.sum(class_matrix, axis = 1)\n",
        "    num_group = np.sum(class_matrix[i])\n",
        "    print(\"類別: {0} \\t 測試集筆數: {1}\".format(index2label[i], int(num_group)))\n",
        "    print(\"正確分類筆數: {0}\".format(class_matrix[i][i]))\n",
        "    print(\"被分類器正確分類的機率: {0} %\".format(100 * class_matrix[i][i]/num_each_group[i]) )\n",
        "    sorted_idxs = np.argsort(class_matrix[i])\n",
        "    if sorted_idxs[-1] == i:\n",
        "        idx = sorted_idxs[-2]\n",
        "    else:\n",
        "        idx = sorted_idxs[-1]\n",
        "    \n",
        "    if class_matrix[i][idx] != 0:\n",
        "        print(\"最常被分錯的組別: {0}  筆數: {1}\".format(index2label[idx], class_matrix[i][idx]) )\n",
        "        count = 0\n",
        "        for f in false_group[i]:\n",
        "            if count >= topK: break\n",
        "            print(\"example: \")\n",
        "            print(testset.df.iloc[f]['question'])\n",
        "            print(\"-> 被分成: {0}\".format(index2label[ predictions[f] ] ))\n",
        "            count += 1\n",
        "    print(\"\")"
      ],
      "execution_count": 0,
      "outputs": []
    },
    {
      "cell_type": "code",
      "metadata": {
        "id": "Fkv2uuLCvu_q",
        "colab_type": "code",
        "colab": {}
      },
      "source": [
        "\"\"\"畫出第 i 組評論的分類分佈\"\"\"\n",
        "def plot_group_i(i, class_matrix):\n",
        "    num_each_group = np.sum(class_matrix, axis = 1)\n",
        "    plt.figure(figsize = (10, 5), facecolor=\"w\")\n",
        "    y_value = np.array(class_matrix[i], dtype = int)\n",
        "    plt.bar(range(num_index), height = y_value)\n",
        "    #plt.xticks(range(num_index),('a', 'b', 'c', 'd', 'e', 'f', 'g', 'h', 'i', 'j', 'k'))\n",
        "    plt.xticks(range(num_index), label_list, fontproperties=fontprop)\n",
        "    plt.title(\"原始組別: \" + label_list[i], fontproperties=fontprop)\n",
        "    plt.xticks(rotation=270, fontproperties=fontprop)\n",
        "    plt.xlabel(\"被分類的組別\", fontproperties=fontprop)\n",
        "    for j in range(num_index):\n",
        "        perc = round(100 * y_value[j]/num_each_group[i], 2)\n",
        "        plt.text(j - 0.4, y_value[j], str(perc) + \"%\", color='blue', fontproperties=fontprop)\n",
        "    #plt.subplot(432)\n",
        "    plt.show()"
      ],
      "execution_count": 0,
      "outputs": []
    },
    {
      "cell_type": "markdown",
      "metadata": {
        "id": "BlqeeQGnSggD",
        "colab_type": "text"
      },
      "source": [
        "個別檢查"
      ]
    },
    {
      "cell_type": "code",
      "metadata": {
        "id": "4nZuhePSNJPU",
        "colab_type": "code",
        "outputId": "66bb2202-1750-481b-f7a8-94c6c9665c92",
        "colab": {
          "base_uri": "https://localhost:8080/",
          "height": 1000
        }
      },
      "source": [
        "for i in range(num_index):\n",
        "    print_summary_i(i, class_matrix, index2label, false_group, topK = 3)"
      ],
      "execution_count": 0,
      "outputs": [
        {
          "output_type": "stream",
          "text": [
            "類別: 未知問題 \t 測試集筆數: 64\n",
            "正確分類筆數: 46.0\n",
            "被分類器正確分類的機率: 71.875 %\n",
            "最常被分錯的組別: 操作問題  筆數: 8.0\n",
            "example: \n",
            "存摺備註\n",
            "-> 被分成: 稱讚\n",
            "example: \n",
            "請問我在貴公司辦了2張信用卡，能同時亮出2張卡額度嗎？\n",
            "-> 被分成: 顧客疑問\n",
            "example: \n",
            "請問為什麼現在我的圖型設定一直無法成功呢？每次設定好了，回到主頁面又顯示要設定圖形的頁面。\n",
            "-> 被分成: 系統問題-Keypasco\n",
            "\n",
            "類別: 稱讚 \t 測試集筆數: 73\n",
            "正確分類筆數: 67.0\n",
            "被分類器正確分類的機率: 91.78082191780823 %\n",
            "最常被分錯的組別: 抱怨  筆數: 2.0\n",
            "example: \n",
            "希望有第二張以上的信用卡，可以記錄消費資訊，現在app裡只能顯示一張信用卡\n",
            "-> 被分成: 建議-信用卡\n",
            "example: \n",
            "今天開始，無法使用快速登入，一直顯示“連線安全檢查”，只能使用帳號登入。(調整星等)\n",
            "-> 被分成: 未知問題\n",
            "example: \n",
            "無超商繳費條碼不方便，也有人反應就是不改。(調整星等1>4)\n",
            "-> 被分成: 抱怨\n",
            "\n",
            "類別: 操作問題 \t 測試集筆數: 23\n",
            "正確分類筆數: 9.0\n",
            "被分類器正確分類的機率: 39.130434782608695 %\n",
            "最常被分錯的組別: 未知問題  筆數: 5.0\n",
            "example: \n",
            "別家銀行網路銀行申請清鬆簡單 就你們玉山難以完成綁定！⋯試過N次⋯最後放棄！一顆星都不想給！\n",
            "-> 被分成: 抱怨\n",
            "example: \n",
            "Android WebView這個版本已停用\n",
            "-> 被分成: 未知問題\n",
            "example: \n",
            "網路匯個款，傳給簡訊也等太久了吧\n",
            "-> 被分成: 抱怨\n",
            "\n",
            "類別: 抱怨 \t 測試集筆數: 17\n",
            "正確分類筆數: 13.0\n",
            "被分類器正確分類的機率: 76.47058823529412 %\n",
            "最常被分錯的組別: 操作問題  筆數: 3.0\n",
            "example: \n",
            "居然加了越獄偵測還無法使用，實在無知擾民。\n",
            "-> 被分成: 操作問題\n",
            "example: \n",
            "未出帳紀錄和可用額度應各卡分開，混在一起都不知道哪張卡剩下多少額度可用，相當困擾\n",
            "-> 被分成: 操作問題\n",
            "example: \n",
            "誰家的市話電話有8碼？全都檢核異常，不給線上申請還做這app幹麻\n",
            "-> 被分成: 操作問題\n",
            "\n",
            "類別: 建議-台幣 \t 測試集筆數: 4\n",
            "正確分類筆數: 1.0\n",
            "被分類器正確分類的機率: 25.0 %\n",
            "最常被分錯的組別: 建議-APP  筆數: 1.0\n",
            "example: \n",
            "想要app也有預約轉帳功能\n",
            "-> 被分成: 建議-APP\n",
            "example: \n",
            "App 裡面沒有定存功能不太方便\n",
            "-> 被分成: 操作問題\n",
            "example: \n",
            "可以讓app也可以有定存交易的功能嗎？\n",
            "要開電腦預約定存 真的不是太方便\n",
            "且不能立馬入帳 即時查詢\n",
            "-> 被分成: 建議-信用卡\n",
            "\n",
            "類別: 建議-信用卡 \t 測試集筆數: 6\n",
            "正確分類筆數: 5.0\n",
            "被分類器正確分類的機率: 83.33333333333333 %\n",
            "最常被分錯的組別: 操作問題  筆數: 1.0\n",
            "example: \n",
            "未出帳明細能不能照不同卡別（pi,ubear)列帳阿？\n",
            "我做帳做的很痛苦耶！\n",
            "-> 被分成: 操作問題\n",
            "\n",
            "類別: 第三方問題 \t 測試集筆數: 2\n",
            "正確分類筆數: 0.0\n",
            "被分類器正確分類的機率: 0.0 %\n",
            "最常被分錯的組別: 操作問題  筆數: 1.0\n",
            "example: \n",
            "在大陸出差使用中國移動的網路現在都打不開，但中國聯通的可以，能不能改善？\n",
            "-> 被分成: 操作問題\n",
            "example: \n",
            "轉帳時收不到認證碼的簡訊 已經試了好幾次 帳號也都確認過 所有通知都有開……\n",
            "-> 被分成: 未知問題\n",
            "\n",
            "類別: 建議-APP \t 測試集筆數: 9\n",
            "正確分類筆數: 6.0\n",
            "被分類器正確分類的機率: 66.66666666666667 %\n",
            "最常被分錯的組別: 操作問題  筆數: 2.0\n",
            "example: \n",
            "介面直覺，操作流暢。 希望能夠加入帳目明細內手動註記留言，方便使用者記帳。\n",
            "-> 被分成: 操作問題\n",
            "example: \n",
            "我只有你們家的信用卡，但給視障者的友善版本卻沒有這功能，那不是就沒用了嗎？\n",
            "-> 被分成: 顧客疑問\n",
            "example: \n",
            "智能客服只是一堆超連結，那點功能選單就好了呀…\n",
            "-> 被分成: 操作問題\n",
            "\n",
            "類別: 顧客疑問 \t 測試集筆數: 6\n",
            "正確分類筆數: 1.0\n",
            "被分類器正確分類的機率: 16.666666666666668 %\n",
            "最常被分錯的組別: 未知問題  筆數: 3.0\n",
            "example: \n",
            "會自動登出是那招\n",
            "-> 被分成: 未知問題\n",
            "example: \n",
            "每次扣款都慢好幾天，回報了重裝也還是一樣，害我出去吃飯刷卡還以為裡面還有錢，爛程式\n",
            "-> 被分成: 未知問題\n",
            "example: \n",
            "臺電的網站上有開放玉山的網路轉帳 但app 裡面只有水公司，沒有臺電\n",
            "-> 被分成: 操作問題\n",
            "\n",
            "類別: 系統問題-bug \t 測試集筆數: 9\n",
            "正確分類筆數: 5.0\n",
            "被分類器正確分類的機率: 55.55555555555556 %\n",
            "最常被分錯的組別: 未知問題  筆數: 2.0\n",
            "example: \n",
            "外滙定存解除未設置，為解除定存須把APP解除再登入網頁之銀行，不便民\n",
            "-> 被分成: 操作問題\n",
            "example: \n",
            "下載不了\n",
            "-> 被分成: 未知問題\n",
            "example: \n",
            "點選客服一直要我重登 什麼破app 操作不便 爛透了\n",
            "-> 被分成: 抱怨\n",
            "\n",
            "類別: 系統問題-Keypasco \t 測試集筆數: 11\n",
            "正確分類筆數: 5.0\n",
            "被分類器正確分類的機率: 45.45454545454545 %\n",
            "最常被分錯的組別: 未知問題  筆數: 3.0\n",
            "example: \n",
            "更新後，圖形登入不能用..\n",
            "-> 被分成: 未知問題\n",
            "example: \n",
            "明明就綁定過手機跟指紋辨識，結果沒幾個月就又要重新綁定，又不是換手機，請改善app的穩定性\n",
            "-> 被分成: 抱怨\n",
            "example: \n",
            "請問指紋驗證OK，但（K041）裝置驗證失敗，請問如何處理……\n",
            "-> 被分成: 操作問題\n",
            "\n"
          ],
          "name": "stdout"
        }
      ]
    },
    {
      "cell_type": "code",
      "metadata": {
        "id": "3tTzdDI_NVAS",
        "colab_type": "code",
        "outputId": "21f101e8-10dd-4136-bce4-d11511804cfb",
        "colab": {
          "base_uri": "https://localhost:8080/",
          "height": 450
        }
      },
      "source": [
        "# labels: ('未知問題','操作問題','稱讚','建議-台幣','抱怨','建議-信用卡','建議-APP','顧客疑問','系統問題-bug','第三方問題','系統問題-Keypasco')\n",
        "i = label2index['抱怨']\n",
        "plot_group_i(i, class_matrix)"
      ],
      "execution_count": 0,
      "outputs": [
        {
          "output_type": "display_data",
          "data": {
            "image/png": "[encoded data removed]",
            "text/plain": [
              "<Figure size 720x360 with 1 Axes>"
            ]
          },
          "metadata": {
            "tags": []
          }
        }
      ]
    },
    {
      "cell_type": "code",
      "metadata": {
        "id": "NTWp6NuY2_av",
        "colab_type": "code",
        "outputId": "a3c51558-fc06-439a-c066-555b4092476d",
        "colab": {
          "base_uri": "https://localhost:8080/",
          "height": 306
        }
      },
      "source": [
        "print_summary_i(i, class_matrix, index2label, false_group, topK = 5)"
      ],
      "execution_count": 0,
      "outputs": [
        {
          "output_type": "stream",
          "text": [
            "類別: 抱怨 \t 測試集筆數: 17\n",
            "正確分類筆數: 13.0\n",
            "被分類器正確分類的機率: 76.47058823529412 %\n",
            "最常被分錯的組別: 操作問題  筆數: 3.0\n",
            "example: \n",
            "居然加了越獄偵測還無法使用，實在無知擾民。\n",
            "-> 被分成: 操作問題\n",
            "example: \n",
            "未出帳紀錄和可用額度應各卡分開，混在一起都不知道哪張卡剩下多少額度可用，相當困擾\n",
            "-> 被分成: 操作問題\n",
            "example: \n",
            "誰家的市話電話有8碼？全都檢核異常，不給線上申請還做這app幹麻\n",
            "-> 被分成: 操作問題\n",
            "example: \n",
            "建議方式完全無效\n",
            "-> 被分成: 未知問題\n",
            "\n"
          ],
          "name": "stdout"
        }
      ]
    },
    {
      "cell_type": "markdown",
      "metadata": {
        "id": "0sEPVmIOdEGs",
        "colab_type": "text"
      },
      "source": [
        "## Approach 2: Binary calssification followed by a multiclass classification on non-compliment comments"
      ]
    },
    {
      "cell_type": "markdown",
      "metadata": {
        "id": "yI7Eij1UNdi2",
        "colab_type": "text"
      },
      "source": [
        "(1) Binary calssification (分出稱讚以及非稱讚的評論)"
      ]
    },
    {
      "cell_type": "code",
      "metadata": {
        "id": "RGAkBSqtYEn4",
        "colab_type": "code",
        "colab": {}
      },
      "source": [
        "# df = preprocess_app_comment(\"20190508起APP評論.xlsx\")\n",
        "# df = df.loc[:, [\"index\", \"question\"]]       # get 'index' and 'question' coluumn\n",
        "# df = filter_toofew_toolong(df, args.min_each_group, args.maxlength)\n",
        "df_binary = df.copy()\n",
        "df_binary['index'] = df_binary['index'].apply(lambda x: 1 if x == '稱讚' else 0)\n",
        "index = df_binary['index']\n",
        "index2label = {idx:val for idx, val in enumerate(index.unique())}\n",
        "num_index = len(index2label)"
      ],
      "execution_count": 0,
      "outputs": []
    },
    {
      "cell_type": "code",
      "metadata": {
        "id": "rjnmmDxOjoVk",
        "colab_type": "code",
        "colab": {}
      },
      "source": [
        "trainset, valset, testset, trainloader, valloader, testloader, NUM_LABELS = \\\n",
        "get_dataloader_numlabels(df_binary, args.min_each_group, args.maxlength, args.batch_size)"
      ],
      "execution_count": 0,
      "outputs": []
    },
    {
      "cell_type": "code",
      "metadata": {
        "id": "srDNFwM0WU51",
        "colab_type": "code",
        "colab": {}
      },
      "source": [
        "train_dist = get_dataset_dist(\"train\", trainset, index2label)\n",
        "val_dist = get_dataset_dist(\"val\", valset, index2label)\n",
        "test_dist = get_dataset_dist(\"test\", testset, index2label)"
      ],
      "execution_count": 0,
      "outputs": []
    },
    {
      "cell_type": "code",
      "metadata": {
        "id": "TLwquINoa1Ri",
        "colab_type": "code",
        "outputId": "5eedde94-71a0-4506-9a35-713d05e677b0",
        "colab": {
          "base_uri": "https://localhost:8080/",
          "height": 1000
        }
      },
      "source": [
        "# if args.model_start:    # If model_start is provided, then initialize model with the existing model\n",
        "#     PRETRAINED_MODEL_NAME = args.model_start\n",
        "model = train(trainloader, valloader, PRETRAINED_MODEL_NAME, NUM_LABELS, args.epoch)\n",
        "save_model(args, args.model_output+\"bin\", model, tokenizer)\n",
        "\n",
        "predictions = get_predictions(model, testloader).detach().cpu().numpy()"
      ],
      "execution_count": 0,
      "outputs": [
        {
          "output_type": "stream",
          "text": [
            "device: cuda:0\n",
            "\n",
            "======== Epoch 1 / 25 ========\n",
            "Training...\n",
            "loss: 7.957, acc: 0.848\n",
            "\n",
            "Running Validation...\n",
            "  Accuracy: 0.82\n",
            "\n",
            "======== Epoch 2 / 25 ========\n",
            "Training...\n",
            "loss: 4.471, acc: 0.953\n",
            "\n",
            "Running Validation...\n",
            "  Accuracy: 0.90\n",
            "\n",
            "======== Epoch 3 / 25 ========\n",
            "Training...\n",
            "loss: 2.663, acc: 0.973\n",
            "\n",
            "Running Validation...\n",
            "  Accuracy: 0.94\n",
            "\n",
            "======== Epoch 4 / 25 ========\n",
            "Training...\n",
            "loss: 1.764, acc: 0.984\n",
            "\n",
            "Running Validation...\n",
            "  Accuracy: 0.94\n",
            "\n",
            "======== Epoch 5 / 25 ========\n",
            "Training...\n",
            "loss: 1.036, acc: 0.989\n",
            "\n",
            "Running Validation...\n",
            "  Accuracy: 0.95\n",
            "\n",
            "======== Epoch 6 / 25 ========\n",
            "Training...\n",
            "loss: 0.686, acc: 0.993\n",
            "\n",
            "Running Validation...\n",
            "  Accuracy: 0.94\n",
            "\n",
            "======== Epoch 7 / 25 ========\n",
            "Training...\n",
            "loss: 0.535, acc: 0.994\n",
            "\n",
            "Running Validation...\n",
            "  Accuracy: 0.95\n",
            "\n",
            "======== Epoch 8 / 25 ========\n",
            "Training...\n",
            "loss: 0.447, acc: 0.993\n",
            "\n",
            "Running Validation...\n",
            "  Accuracy: 0.95\n",
            "\n",
            "======== Epoch 9 / 25 ========\n",
            "Training...\n",
            "loss: 0.350, acc: 0.995\n",
            "\n",
            "Running Validation...\n",
            "  Accuracy: 0.94\n",
            "\n",
            "======== Epoch 10 / 25 ========\n",
            "Training...\n",
            "loss: 0.266, acc: 0.995\n",
            "\n",
            "Running Validation...\n",
            "  Accuracy: 0.95\n",
            "\n",
            "======== Epoch 11 / 25 ========\n",
            "Training...\n",
            "loss: 0.241, acc: 0.995\n",
            "\n",
            "Running Validation...\n",
            "  Accuracy: 0.95\n",
            "\n",
            "======== Epoch 12 / 25 ========\n",
            "Training...\n",
            "loss: 0.203, acc: 0.995\n",
            "\n",
            "Running Validation...\n",
            "  Accuracy: 0.95\n",
            "\n",
            "======== Epoch 13 / 25 ========\n",
            "Training...\n",
            "loss: 0.179, acc: 0.996\n",
            "\n",
            "Running Validation...\n",
            "  Accuracy: 0.95\n",
            "\n",
            "======== Epoch 14 / 25 ========\n",
            "Training...\n",
            "loss: 0.184, acc: 0.998\n",
            "\n",
            "Running Validation...\n",
            "  Accuracy: 0.95\n",
            "\n",
            "======== Epoch 15 / 25 ========\n",
            "Training...\n",
            "loss: 0.150, acc: 0.997\n",
            "\n",
            "Running Validation...\n",
            "  Accuracy: 0.96\n",
            "\n",
            "======== Epoch 16 / 25 ========\n",
            "Training...\n",
            "loss: 0.159, acc: 0.996\n",
            "\n",
            "Running Validation...\n",
            "  Accuracy: 0.95\n",
            "\n",
            "======== Epoch 17 / 25 ========\n",
            "Training...\n",
            "loss: 0.133, acc: 0.997\n",
            "\n",
            "Running Validation...\n",
            "  Accuracy: 0.95\n",
            "\n",
            "======== Epoch 18 / 25 ========\n",
            "Training...\n",
            "loss: 0.120, acc: 0.997\n",
            "\n",
            "Running Validation...\n",
            "  Accuracy: 0.93\n",
            "\n",
            "======== Epoch 19 / 25 ========\n",
            "Training...\n",
            "loss: 0.117, acc: 0.996\n",
            "\n",
            "Running Validation...\n",
            "  Accuracy: 0.95\n",
            "\n",
            "======== Epoch 20 / 25 ========\n",
            "Training...\n",
            "loss: 0.119, acc: 0.997\n",
            "\n",
            "Running Validation...\n",
            "  Accuracy: 0.94\n",
            "\n",
            "======== Epoch 21 / 25 ========\n",
            "Training...\n",
            "loss: 0.119, acc: 0.997\n",
            "\n",
            "Running Validation...\n",
            "  Accuracy: 0.94\n",
            "\n",
            "======== Epoch 22 / 25 ========\n",
            "Training...\n",
            "loss: 0.124, acc: 0.996\n",
            "\n",
            "Running Validation...\n",
            "  Accuracy: 0.95\n",
            "\n",
            "======== Epoch 23 / 25 ========\n",
            "Training...\n",
            "loss: 0.133, acc: 0.997\n",
            "\n",
            "Running Validation...\n",
            "  Accuracy: 0.94\n",
            "\n",
            "======== Epoch 24 / 25 ========\n",
            "Training...\n",
            "loss: 0.135, acc: 0.997\n",
            "\n",
            "Running Validation...\n",
            "  Accuracy: 0.94\n",
            "\n",
            "======== Epoch 25 / 25 ========\n",
            "Training...\n",
            "loss: 0.131, acc: 0.998\n",
            "\n",
            "Running Validation...\n",
            "  Accuracy: 0.95\n",
            "Saving model to model_ep25_eg5_ml50bin\n"
          ],
          "name": "stdout"
        }
      ]
    },
    {
      "cell_type": "code",
      "metadata": {
        "id": "ossJaLVca1UN",
        "colab_type": "code",
        "colab": {}
      },
      "source": [
        "true_label = testset.df[\"index\"]\n",
        "class_matrix, false_group = get_confusion_matrix(true_label, predictions, num_index)"
      ],
      "execution_count": 0,
      "outputs": []
    },
    {
      "cell_type": "code",
      "metadata": {
        "id": "fENbzUhsbT5y",
        "colab_type": "code",
        "outputId": "9710ec34-58ca-4118-f420-ec033bb7e997",
        "colab": {
          "base_uri": "https://localhost:8080/",
          "height": 34
        }
      },
      "source": [
        "print_acc(class_matrix)"
      ],
      "execution_count": 0,
      "outputs": [
        {
          "output_type": "stream",
          "text": [
            "Accuracy: 97.30941704035874%\n"
          ],
          "name": "stdout"
        }
      ]
    },
    {
      "cell_type": "code",
      "metadata": {
        "id": "tNu2lYvxj353",
        "colab_type": "code",
        "outputId": "7870f1fb-f104-46ce-eecf-1909e0dcc87d",
        "colab": {
          "base_uri": "https://localhost:8080/",
          "height": 527
        }
      },
      "source": [
        "for i in range(num_index):\n",
        "    print_summary_i(i, class_matrix, index2label, false_group, topK = 10)"
      ],
      "execution_count": 0,
      "outputs": [
        {
          "output_type": "stream",
          "text": [
            "類別: 0 \t 測試集筆數: 170\n",
            "正確分類筆數: 168.0\n",
            "被分類器正確分類的機率: 98.82352941176471 %\n",
            "最常被分錯的組別: 1  筆數: 2.0\n",
            "example: \n",
            "gidaben10051985\n",
            "-> 被分成: 1\n",
            "example: \n",
            "0975023填單\n",
            "-> 被分成: 1\n",
            "\n",
            "類別: 1 \t 測試集筆數: 53\n",
            "正確分類筆數: 49.0\n",
            "被分類器正確分類的機率: 92.45283018867924 %\n",
            "最常被分錯的組別: 0  筆數: 4.0\n",
            "example: \n",
            "更新後卡頓嚴重，有時根本開不了，我是I712.2版本，重新卸載後關機重新安裝以後有好點了\n",
            "-> 被分成: 0\n",
            "example: \n",
            "\n",
            "原來要先設定圖形才能設定指紋辨識\n",
            "-> 被分成: 0\n",
            "example: \n",
            "Very good\n",
            "-> 被分成: 0\n",
            "example: \n",
            "圖形驗證不適用Android 7.0，希望能儘快更新。\n",
            "*僅調整星等1→4(如附圖)\n",
            "-> 被分成: 0\n",
            "\n"
          ],
          "name": "stdout"
        }
      ]
    },
    {
      "cell_type": "markdown",
      "metadata": {
        "id": "RryKFvoXctIa",
        "colab_type": "text"
      },
      "source": [
        "\n",
        "\n",
        "> 能瞞準確地辨別出稱讚類評論\n",
        "\n"
      ]
    },
    {
      "cell_type": "code",
      "metadata": {
        "id": "XtBYoDaAbT90",
        "colab_type": "code",
        "outputId": "d1cdd484-e048-43c0-b7dc-81703d352777",
        "colab": {
          "base_uri": "https://localhost:8080/",
          "height": 128
        }
      },
      "source": [
        "label_list = [index2label[key] for key in index2label]\n",
        "label2index = {val:key for key, val in index2label.items()}\n",
        "summary = pd.DataFrame(class_matrix, dtype = int, columns=label_list, index = label_list )\n",
        "print(\"測試集 confusion matrix:\")\n",
        "summary"
      ],
      "execution_count": 0,
      "outputs": [
        {
          "output_type": "stream",
          "text": [
            "測試集 confusion matrix:\n"
          ],
          "name": "stdout"
        },
        {
          "output_type": "execute_result",
          "data": {
            "text/html": [
              "<div>\n",
              "<style scoped>\n",
              "    .dataframe tbody tr th:only-of-type {\n",
              "        vertical-align: middle;\n",
              "    }\n",
              "\n",
              "    .dataframe tbody tr th {\n",
              "        vertical-align: top;\n",
              "    }\n",
              "\n",
              "    .dataframe thead th {\n",
              "        text-align: right;\n",
              "    }\n",
              "</style>\n",
              "<table border=\"1\" class=\"dataframe\">\n",
              "  <thead>\n",
              "    <tr style=\"text-align: right;\">\n",
              "      <th></th>\n",
              "      <th>0</th>\n",
              "      <th>1</th>\n",
              "    </tr>\n",
              "  </thead>\n",
              "  <tbody>\n",
              "    <tr>\n",
              "      <th>0</th>\n",
              "      <td>168</td>\n",
              "      <td>2</td>\n",
              "    </tr>\n",
              "    <tr>\n",
              "      <th>1</th>\n",
              "      <td>4</td>\n",
              "      <td>49</td>\n",
              "    </tr>\n",
              "  </tbody>\n",
              "</table>\n",
              "</div>"
            ],
            "text/plain": [
              "     0   1\n",
              "0  168   2\n",
              "1    4  49"
            ]
          },
          "metadata": {
            "tags": []
          },
          "execution_count": 61
        }
      ]
    },
    {
      "cell_type": "markdown",
      "metadata": {
        "id": "196g9SCQfXcE",
        "colab_type": "text"
      },
      "source": [
        "(2) Multiclass classification on non-compliment comments."
      ]
    },
    {
      "cell_type": "code",
      "metadata": {
        "id": "3jsZVB_ifYOs",
        "colab_type": "code",
        "colab": {}
      },
      "source": [
        "# df = preprocess_app_comment(\"20190508起APP評論.xlsx\")\n",
        "# df = df.loc[:, [\"index\", \"question\"]]       # get 'index' and 'question' coluumn\n",
        "# df = filter_toofew_toolong(df, args.min_each_group, args.maxlength)\n",
        "df_other = df.copy()\n",
        "df_other = df_other[df_other['index'] != '稱讚']\n",
        "index = df_other['index']\n",
        "index2label = {idx:val for idx, val in enumerate(index.unique())}\n",
        "num_index = len(index2label)"
      ],
      "execution_count": 0,
      "outputs": []
    },
    {
      "cell_type": "code",
      "metadata": {
        "id": "6IrB_3XegKzR",
        "colab_type": "code",
        "colab": {}
      },
      "source": [
        "trainset, valset, testset, trainloader, valloader, testloader, NUM_LABELS = \\\n",
        "get_dataloader_numlabels(df_other, args.min_each_group, args.maxlength, args.batch_size)"
      ],
      "execution_count": 0,
      "outputs": []
    },
    {
      "cell_type": "code",
      "metadata": {
        "id": "7vqOiIAdgK2k",
        "colab_type": "code",
        "colab": {}
      },
      "source": [
        "train_dist = get_dataset_dist(\"train\", trainset, index2label)\n",
        "val_dist = get_dataset_dist(\"val\", valset, index2label)\n",
        "test_dist = get_dataset_dist(\"test\", testset, index2label)"
      ],
      "execution_count": 0,
      "outputs": []
    },
    {
      "cell_type": "code",
      "metadata": {
        "id": "G7C7OtFFgK-1",
        "colab_type": "code",
        "outputId": "52f8b2b4-72a2-4dd8-ae96-26f009a563fc",
        "colab": {
          "base_uri": "https://localhost:8080/",
          "height": 1000
        }
      },
      "source": [
        "# if args.model_start:    # If model_start is provided, then initialize model with the existing model\n",
        "#     PRETRAINED_MODEL_NAME = args.model_start\n",
        "model = train(trainloader, valloader, PRETRAINED_MODEL_NAME, NUM_LABELS, args.epoch)\n",
        "save_model(args, args.model_output+\"other\", model, tokenizer)\n",
        "\n",
        "predictions = get_predictions(model, testloader).detach().cpu().numpy()"
      ],
      "execution_count": 0,
      "outputs": [
        {
          "output_type": "stream",
          "text": [
            "device: cuda:0\n",
            "\n",
            "======== Epoch 1 / 25 ========\n",
            "Training...\n",
            "loss: 28.392, acc: 0.391\n",
            "\n",
            "Running Validation...\n",
            "  Accuracy: 0.36\n",
            "\n",
            "======== Epoch 2 / 25 ========\n",
            "Training...\n",
            "loss: 24.884, acc: 0.424\n",
            "\n",
            "Running Validation...\n",
            "  Accuracy: 0.39\n",
            "\n",
            "======== Epoch 3 / 25 ========\n",
            "Training...\n",
            "loss: 22.426, acc: 0.454\n",
            "\n",
            "Running Validation...\n",
            "  Accuracy: 0.41\n",
            "\n",
            "======== Epoch 4 / 25 ========\n",
            "Training...\n",
            "loss: 20.796, acc: 0.530\n",
            "\n",
            "Running Validation...\n",
            "  Accuracy: 0.45\n",
            "\n",
            "======== Epoch 5 / 25 ========\n",
            "Training...\n",
            "loss: 19.198, acc: 0.571\n",
            "\n",
            "Running Validation...\n",
            "  Accuracy: 0.47\n",
            "\n",
            "======== Epoch 6 / 25 ========\n",
            "Training...\n",
            "loss: 17.694, acc: 0.618\n",
            "\n",
            "Running Validation...\n",
            "  Accuracy: 0.50\n",
            "\n",
            "======== Epoch 7 / 25 ========\n",
            "Training...\n",
            "loss: 16.076, acc: 0.668\n",
            "\n",
            "Running Validation...\n",
            "  Accuracy: 0.54\n",
            "\n",
            "======== Epoch 8 / 25 ========\n",
            "Training...\n",
            "loss: 14.753, acc: 0.730\n",
            "\n",
            "Running Validation...\n",
            "  Accuracy: 0.54\n",
            "\n",
            "======== Epoch 9 / 25 ========\n",
            "Training...\n",
            "loss: 13.335, acc: 0.768\n",
            "\n",
            "Running Validation...\n",
            "  Accuracy: 0.54\n",
            "\n",
            "======== Epoch 10 / 25 ========\n",
            "Training...\n",
            "loss: 12.133, acc: 0.773\n",
            "\n",
            "Running Validation...\n",
            "  Accuracy: 0.54\n",
            "\n",
            "======== Epoch 11 / 25 ========\n",
            "Training...\n",
            "loss: 10.780, acc: 0.820\n",
            "\n",
            "Running Validation...\n",
            "  Accuracy: 0.57\n",
            "\n",
            "======== Epoch 12 / 25 ========\n",
            "Training...\n",
            "loss: 9.754, acc: 0.845\n",
            "\n",
            "Running Validation...\n",
            "  Accuracy: 0.60\n",
            "\n",
            "======== Epoch 13 / 25 ========\n",
            "Training...\n",
            "loss: 8.574, acc: 0.852\n",
            "\n",
            "Running Validation...\n",
            "  Accuracy: 0.57\n",
            "\n",
            "======== Epoch 14 / 25 ========\n",
            "Training...\n",
            "loss: 7.633, acc: 0.892\n",
            "\n",
            "Running Validation...\n",
            "  Accuracy: 0.58\n",
            "\n",
            "======== Epoch 15 / 25 ========\n",
            "Training...\n",
            "loss: 6.738, acc: 0.893\n",
            "\n",
            "Running Validation...\n",
            "  Accuracy: 0.62\n",
            "\n",
            "======== Epoch 16 / 25 ========\n",
            "Training...\n",
            "loss: 6.117, acc: 0.914\n",
            "\n",
            "Running Validation...\n",
            "  Accuracy: 0.56\n",
            "\n",
            "======== Epoch 17 / 25 ========\n",
            "Training...\n",
            "loss: 5.177, acc: 0.929\n",
            "\n",
            "Running Validation...\n",
            "  Accuracy: 0.54\n",
            "\n",
            "======== Epoch 18 / 25 ========\n",
            "Training...\n",
            "loss: 4.451, acc: 0.945\n",
            "\n",
            "Running Validation...\n",
            "  Accuracy: 0.59\n",
            "\n",
            "======== Epoch 19 / 25 ========\n",
            "Training...\n",
            "loss: 3.829, acc: 0.951\n",
            "\n",
            "Running Validation...\n",
            "  Accuracy: 0.57\n",
            "\n",
            "======== Epoch 20 / 25 ========\n",
            "Training...\n",
            "loss: 3.194, acc: 0.970\n",
            "\n",
            "Running Validation...\n",
            "  Accuracy: 0.54\n",
            "\n",
            "======== Epoch 21 / 25 ========\n",
            "Training...\n",
            "loss: 2.747, acc: 0.974\n",
            "\n",
            "Running Validation...\n",
            "  Accuracy: 0.57\n",
            "\n",
            "======== Epoch 22 / 25 ========\n",
            "Training...\n",
            "loss: 2.306, acc: 0.984\n",
            "\n",
            "Running Validation...\n",
            "  Accuracy: 0.57\n",
            "\n",
            "======== Epoch 23 / 25 ========\n",
            "Training...\n",
            "loss: 2.062, acc: 0.984\n",
            "\n",
            "Running Validation...\n",
            "  Accuracy: 0.57\n",
            "\n",
            "======== Epoch 24 / 25 ========\n",
            "Training...\n",
            "loss: 1.717, acc: 0.986\n",
            "\n",
            "Running Validation...\n",
            "  Accuracy: 0.61\n",
            "\n",
            "======== Epoch 25 / 25 ========\n",
            "Training...\n",
            "loss: 1.494, acc: 0.990\n",
            "\n",
            "Running Validation...\n",
            "  Accuracy: 0.57\n",
            "Saving model to model_ep25_eg5_ml50other\n"
          ],
          "name": "stdout"
        }
      ]
    },
    {
      "cell_type": "code",
      "metadata": {
        "id": "HT4GK29OgfrM",
        "colab_type": "code",
        "outputId": "6ac651cb-04fe-4898-816a-abf92e6996d2",
        "colab": {
          "base_uri": "https://localhost:8080/",
          "height": 34
        }
      },
      "source": [
        "true_label = testset.df[\"index\"]\n",
        "class_matrix, false_group = get_confusion_matrix(true_label, predictions, num_index)\n",
        "print_acc(class_matrix)"
      ],
      "execution_count": 0,
      "outputs": [
        {
          "output_type": "stream",
          "text": [
            "Accuracy: 48.4472049689441%\n"
          ],
          "name": "stdout"
        }
      ]
    },
    {
      "cell_type": "code",
      "metadata": {
        "id": "XiGeuI01gnNB",
        "colab_type": "code",
        "outputId": "387ea2b0-6812-4daa-c44a-a3680cd08a3a",
        "colab": {
          "base_uri": "https://localhost:8080/",
          "height": 376
        }
      },
      "source": [
        "label_list = [index2label[key] for key in index2label]\n",
        "label2index = {val:key for key, val in index2label.items()}\n",
        "summary = pd.DataFrame(class_matrix, dtype = int, columns=label_list, index = label_list )\n",
        "print(\"測試集 confusion matrix:\")\n",
        "summary"
      ],
      "execution_count": 0,
      "outputs": [
        {
          "output_type": "stream",
          "text": [
            "測試集 confusion matrix:\n"
          ],
          "name": "stdout"
        },
        {
          "output_type": "execute_result",
          "data": {
            "text/html": [
              "<div>\n",
              "<style scoped>\n",
              "    .dataframe tbody tr th:only-of-type {\n",
              "        vertical-align: middle;\n",
              "    }\n",
              "\n",
              "    .dataframe tbody tr th {\n",
              "        vertical-align: top;\n",
              "    }\n",
              "\n",
              "    .dataframe thead th {\n",
              "        text-align: right;\n",
              "    }\n",
              "</style>\n",
              "<table border=\"1\" class=\"dataframe\">\n",
              "  <thead>\n",
              "    <tr style=\"text-align: right;\">\n",
              "      <th></th>\n",
              "      <th>未知問題</th>\n",
              "      <th>操作問題</th>\n",
              "      <th>抱怨</th>\n",
              "      <th>建議-台幣</th>\n",
              "      <th>建議-信用卡</th>\n",
              "      <th>第三方問題</th>\n",
              "      <th>建議-APP</th>\n",
              "      <th>顧客疑問</th>\n",
              "      <th>系統問題-bug</th>\n",
              "      <th>系統問題-Keypasco</th>\n",
              "    </tr>\n",
              "  </thead>\n",
              "  <tbody>\n",
              "    <tr>\n",
              "      <th>未知問題</th>\n",
              "      <td>44</td>\n",
              "      <td>5</td>\n",
              "      <td>6</td>\n",
              "      <td>0</td>\n",
              "      <td>1</td>\n",
              "      <td>0</td>\n",
              "      <td>1</td>\n",
              "      <td>7</td>\n",
              "      <td>0</td>\n",
              "      <td>4</td>\n",
              "    </tr>\n",
              "    <tr>\n",
              "      <th>操作問題</th>\n",
              "      <td>5</td>\n",
              "      <td>2</td>\n",
              "      <td>4</td>\n",
              "      <td>0</td>\n",
              "      <td>1</td>\n",
              "      <td>1</td>\n",
              "      <td>3</td>\n",
              "      <td>3</td>\n",
              "      <td>0</td>\n",
              "      <td>2</td>\n",
              "    </tr>\n",
              "    <tr>\n",
              "      <th>抱怨</th>\n",
              "      <td>7</td>\n",
              "      <td>4</td>\n",
              "      <td>12</td>\n",
              "      <td>0</td>\n",
              "      <td>0</td>\n",
              "      <td>0</td>\n",
              "      <td>0</td>\n",
              "      <td>0</td>\n",
              "      <td>0</td>\n",
              "      <td>0</td>\n",
              "    </tr>\n",
              "    <tr>\n",
              "      <th>建議-台幣</th>\n",
              "      <td>0</td>\n",
              "      <td>0</td>\n",
              "      <td>0</td>\n",
              "      <td>1</td>\n",
              "      <td>0</td>\n",
              "      <td>0</td>\n",
              "      <td>1</td>\n",
              "      <td>0</td>\n",
              "      <td>0</td>\n",
              "      <td>0</td>\n",
              "    </tr>\n",
              "    <tr>\n",
              "      <th>建議-信用卡</th>\n",
              "      <td>0</td>\n",
              "      <td>0</td>\n",
              "      <td>0</td>\n",
              "      <td>0</td>\n",
              "      <td>6</td>\n",
              "      <td>0</td>\n",
              "      <td>0</td>\n",
              "      <td>2</td>\n",
              "      <td>0</td>\n",
              "      <td>0</td>\n",
              "    </tr>\n",
              "    <tr>\n",
              "      <th>第三方問題</th>\n",
              "      <td>2</td>\n",
              "      <td>1</td>\n",
              "      <td>0</td>\n",
              "      <td>0</td>\n",
              "      <td>0</td>\n",
              "      <td>0</td>\n",
              "      <td>0</td>\n",
              "      <td>0</td>\n",
              "      <td>0</td>\n",
              "      <td>0</td>\n",
              "    </tr>\n",
              "    <tr>\n",
              "      <th>建議-APP</th>\n",
              "      <td>1</td>\n",
              "      <td>1</td>\n",
              "      <td>2</td>\n",
              "      <td>0</td>\n",
              "      <td>0</td>\n",
              "      <td>0</td>\n",
              "      <td>6</td>\n",
              "      <td>2</td>\n",
              "      <td>0</td>\n",
              "      <td>0</td>\n",
              "    </tr>\n",
              "    <tr>\n",
              "      <th>顧客疑問</th>\n",
              "      <td>0</td>\n",
              "      <td>2</td>\n",
              "      <td>3</td>\n",
              "      <td>0</td>\n",
              "      <td>0</td>\n",
              "      <td>0</td>\n",
              "      <td>0</td>\n",
              "      <td>0</td>\n",
              "      <td>0</td>\n",
              "      <td>0</td>\n",
              "    </tr>\n",
              "    <tr>\n",
              "      <th>系統問題-bug</th>\n",
              "      <td>0</td>\n",
              "      <td>1</td>\n",
              "      <td>0</td>\n",
              "      <td>0</td>\n",
              "      <td>0</td>\n",
              "      <td>0</td>\n",
              "      <td>0</td>\n",
              "      <td>0</td>\n",
              "      <td>5</td>\n",
              "      <td>0</td>\n",
              "    </tr>\n",
              "    <tr>\n",
              "      <th>系統問題-Keypasco</th>\n",
              "      <td>7</td>\n",
              "      <td>2</td>\n",
              "      <td>2</td>\n",
              "      <td>0</td>\n",
              "      <td>0</td>\n",
              "      <td>0</td>\n",
              "      <td>0</td>\n",
              "      <td>0</td>\n",
              "      <td>0</td>\n",
              "      <td>2</td>\n",
              "    </tr>\n",
              "  </tbody>\n",
              "</table>\n",
              "</div>"
            ],
            "text/plain": [
              "               未知問題  操作問題  抱怨  建議-台幣  ...  建議-APP  顧客疑問  系統問題-bug  系統問題-Keypasco\n",
              "未知問題             44     5   6      0  ...       1     7         0              4\n",
              "操作問題              5     2   4      0  ...       3     3         0              2\n",
              "抱怨                7     4  12      0  ...       0     0         0              0\n",
              "建議-台幣             0     0   0      1  ...       1     0         0              0\n",
              "建議-信用卡            0     0   0      0  ...       0     2         0              0\n",
              "第三方問題             2     1   0      0  ...       0     0         0              0\n",
              "建議-APP            1     1   2      0  ...       6     2         0              0\n",
              "顧客疑問              0     2   3      0  ...       0     0         0              0\n",
              "系統問題-bug          0     1   0      0  ...       0     0         5              0\n",
              "系統問題-Keypasco     7     2   2      0  ...       0     0         0              2\n",
              "\n",
              "[10 rows x 10 columns]"
            ]
          },
          "metadata": {
            "tags": []
          },
          "execution_count": 69
        }
      ]
    },
    {
      "cell_type": "code",
      "metadata": {
        "id": "NMtl_k3PJTN3",
        "colab_type": "code",
        "colab": {}
      },
      "source": [
        ""
      ],
      "execution_count": 0,
      "outputs": []
    },
    {
      "cell_type": "markdown",
      "metadata": {
        "id": "xuFqk_4V4FS2",
        "colab_type": "text"
      },
      "source": [
        "### Read the mapping"
      ]
    },
    {
      "cell_type": "code",
      "metadata": {
        "id": "OnKiftkNJ1H6",
        "colab_type": "code",
        "colab": {}
      },
      "source": [
        "df_map = pd.read_excel(\"公版評論回覆與分類表@20200313.xlsx\")"
      ],
      "execution_count": 0,
      "outputs": []
    },
    {
      "cell_type": "code",
      "metadata": {
        "id": "VrZQPj0LYdiG",
        "colab_type": "code",
        "outputId": "0301fe7a-7374-47eb-891a-0a1137659d1a",
        "colab": {
          "base_uri": "https://localhost:8080/",
          "height": 1000
        }
      },
      "source": [
        "df_map[['子分類', '公版內容']]"
      ],
      "execution_count": 0,
      "outputs": [
        {
          "output_type": "execute_result",
          "data": {
            "text/html": [
              "<div>\n",
              "<style scoped>\n",
              "    .dataframe tbody tr th:only-of-type {\n",
              "        vertical-align: middle;\n",
              "    }\n",
              "\n",
              "    .dataframe tbody tr th {\n",
              "        vertical-align: top;\n",
              "    }\n",
              "\n",
              "    .dataframe thead th {\n",
              "        text-align: right;\n",
              "    }\n",
              "</style>\n",
              "<table border=\"1\" class=\"dataframe\">\n",
              "  <thead>\n",
              "    <tr style=\"text-align: right;\">\n",
              "      <th></th>\n",
              "      <th>子分類</th>\n",
              "      <th>公版內容</th>\n",
              "    </tr>\n",
              "  </thead>\n",
              "  <tbody>\n",
              "    <tr>\n",
              "      <th>0</th>\n",
              "      <td>建議</td>\n",
              "      <td>親愛的顧客您好\\n感謝您的支持與愛護，本行將持續改善與精進，我們會把您的意見回饋給相關單位，...</td>\n",
              "    </tr>\n",
              "    <tr>\n",
              "      <th>1</th>\n",
              "      <td>NaN</td>\n",
              "      <td>親愛的顧客您好\\n感謝您的回饋，建議您可以先使用電腦登入網路銀行，點選「XXXX」→XXXX...</td>\n",
              "    </tr>\n",
              "    <tr>\n",
              "      <th>2</th>\n",
              "      <td>NaN</td>\n",
              "      <td>Dear  Customer,\\nThank you for your feedback. ...</td>\n",
              "    </tr>\n",
              "    <tr>\n",
              "      <th>3</th>\n",
              "      <td>抱怨</td>\n",
              "      <td>親愛的顧客您好\\n造成您的不便，敬請見諒。本行將持續改善與精進，我們會把您的意見回饋給相關單...</td>\n",
              "    </tr>\n",
              "    <tr>\n",
              "      <th>4</th>\n",
              "      <td>抱怨</td>\n",
              "      <td>親愛的顧客您好\\n感謝您的回饋，建議您亦可使用智能客服(https://robot.esun...</td>\n",
              "    </tr>\n",
              "    <tr>\n",
              "      <th>5</th>\n",
              "      <td>未知問題</td>\n",
              "      <td>親愛的顧客您好\\n感謝您的回饋，為了進一步確認您的問題，以便把您的意見回饋給相關單位，請您使...</td>\n",
              "    </tr>\n",
              "    <tr>\n",
              "      <th>6</th>\n",
              "      <td>稱讚</td>\n",
              "      <td>親愛的顧客您好\\n您的支持與愛護是玉山服務更精進的動力。謝謝您~</td>\n",
              "    </tr>\n",
              "    <tr>\n",
              "      <th>7</th>\n",
              "      <td>NaN</td>\n",
              "      <td>親愛的顧客您好\\n感謝您給予5顆星~您的支持與愛護是玉山服務更精進的動力。謝謝您~</td>\n",
              "    </tr>\n",
              "    <tr>\n",
              "      <th>8</th>\n",
              "      <td>操作問題</td>\n",
              "      <td>親愛的顧客您好\\n感謝您的回饋，本行已提供超商條碼繳費服務，敬請將APP更新至最新版後使用。...</td>\n",
              "    </tr>\n",
              "    <tr>\n",
              "      <th>9</th>\n",
              "      <td>NaN</td>\n",
              "      <td>親愛的顧客您好\\n請您確認：\\n(1) 行動裝置是否支援指紋辨識功能。\\n(2) Andro...</td>\n",
              "    </tr>\n",
              "    <tr>\n",
              "      <th>10</th>\n",
              "      <td>NaN</td>\n",
              "      <td>親愛的顧客您好\\n本行已提供即期匯率幣別排序功能，請您依照以下步驟操作。\\n步驟(1)：於「...</td>\n",
              "    </tr>\n",
              "    <tr>\n",
              "      <th>11</th>\n",
              "      <td>NaN</td>\n",
              "      <td>親愛的顧客您好\\n感謝您的支持與愛護，請您嘗試依照下列步驟重新操作。\\n步驟(1)：於「外幣...</td>\n",
              "    </tr>\n",
              "    <tr>\n",
              "      <th>12</th>\n",
              "      <td>NaN</td>\n",
              "      <td>親愛的顧客您好\\n感謝您的回饋，如為密碼超過一年之原因，請於跳出的通知畫面，點選「繼續使用原...</td>\n",
              "    </tr>\n",
              "    <tr>\n",
              "      <th>13</th>\n",
              "      <td>NaN</td>\n",
              "      <td>親愛的顧客您好\\n請您依照以下步驟設定推播通知。\\n步驟(1)：開啟行動銀行APP→打開側邊...</td>\n",
              "    </tr>\n",
              "    <tr>\n",
              "      <th>14</th>\n",
              "      <td>NaN</td>\n",
              "      <td>親愛的顧客您好\\n您可透過臨櫃、ATM或網路銀行開啟簡訊密碼：\\nATM開通方式：http:...</td>\n",
              "    </tr>\n",
              "    <tr>\n",
              "      <th>15</th>\n",
              "      <td>NaN</td>\n",
              "      <td>親愛的顧客您好\\n感謝您的回饋，您可於XXXXXX\\n如有任何其他問題，建議您可使用智能客服...</td>\n",
              "    </tr>\n",
              "    <tr>\n",
              "      <th>16</th>\n",
              "      <td>NaN</td>\n",
              "      <td>親愛的顧客您好\\n本行已提供XXXX，請您依照以下步驟XXXX。\\n步驟(1)：\\n步驟(2...</td>\n",
              "    </tr>\n",
              "    <tr>\n",
              "      <th>17</th>\n",
              "      <td>系統問題</td>\n",
              "      <td>親愛的顧客您好\\n感謝您的回饋，目前已盡速修復中，造成您的不便，敬請見諒。\\n如有任何其他問...</td>\n",
              "    </tr>\n",
              "    <tr>\n",
              "      <th>18</th>\n",
              "      <td>NaN</td>\n",
              "      <td>親愛的顧客您好\\n感謝您的回饋，目前系統已恢復正常，請您重新登入，謝謝。\\n\\n如有任何其他...</td>\n",
              "    </tr>\n",
              "    <tr>\n",
              "      <th>19</th>\n",
              "      <td>NaN</td>\n",
              "      <td>親愛的顧客您好\\n感謝您的回饋，近期因使用人數較多，系統較為繁忙，目前已盡速修復中，造成您的...</td>\n",
              "    </tr>\n",
              "    <tr>\n",
              "      <th>20</th>\n",
              "      <td>NaN</td>\n",
              "      <td>親愛的顧客您好\\n因本行於年/月/日 時:分至時:分 進行系統維護，導致無法使用服務，如造成...</td>\n",
              "    </tr>\n",
              "    <tr>\n",
              "      <th>21</th>\n",
              "      <td>NaN</td>\n",
              "      <td>親愛的顧客您好\\n本行於年/月/日 時:分至時:分進行系統維護，如您持續無法正常使用，建議您...</td>\n",
              "    </tr>\n",
              "    <tr>\n",
              "      <th>22</th>\n",
              "      <td>NaN</td>\n",
              "      <td>親愛的顧客您好\\n感謝您的回饋，請您依照下列步驟重新操作。\\n步驟(1)：進入行動銀行APP...</td>\n",
              "    </tr>\n",
              "    <tr>\n",
              "      <th>23</th>\n",
              "      <td>NaN</td>\n",
              "      <td>親愛的顧客您好\\n感謝您的回饋，請您依照下列步驟重新操作。\\n步驟(1)：進入行動銀行APP...</td>\n",
              "    </tr>\n",
              "    <tr>\n",
              "      <th>24</th>\n",
              "      <td>NaN</td>\n",
              "      <td>親愛的顧客您好\\n目前綁定裝置數有五支限制，次數部分則無上限，請您依照下列步驟調整您的綁定裝...</td>\n",
              "    </tr>\n",
              "    <tr>\n",
              "      <th>25</th>\n",
              "      <td>NaN</td>\n",
              "      <td>親愛的顧客您好\\n造成您的不便，敬請見諒，請您依照下列步驟重新操作。\\n步驟(1)：開啟「設...</td>\n",
              "    </tr>\n",
              "    <tr>\n",
              "      <th>26</th>\n",
              "      <td>NaN</td>\n",
              "      <td>親愛的顧客您好\\n請您依照下列步驟重新操作：\\n1. 請移除您手機原有之「玉山行動銀行」ap...</td>\n",
              "    </tr>\n",
              "    <tr>\n",
              "      <th>27</th>\n",
              "      <td>NaN</td>\n",
              "      <td>親愛的顧客您好\\n造成您的不便，敬請見諒，請您依下列步驟設定：：\\n步驟(1)：開啟「設定」...</td>\n",
              "    </tr>\n",
              "    <tr>\n",
              "      <th>28</th>\n",
              "      <td>NaN</td>\n",
              "      <td>親愛的顧客您好\\n造成您的不便，敬請見諒。請您依下列步驟設定：\\n步驟(1)：開啟「設定」→...</td>\n",
              "    </tr>\n",
              "    <tr>\n",
              "      <th>29</th>\n",
              "      <td>NaN</td>\n",
              "      <td>親愛的顧客您好\\n造成您的不便，敬請見諒，請您依照下列步驟重新操作。\\n步驟(1)：請手機「...</td>\n",
              "    </tr>\n",
              "    <tr>\n",
              "      <th>30</th>\n",
              "      <td>NaN</td>\n",
              "      <td>親愛的顧客您好 \\n感謝您的回饋，目前已盡速修復中，請您切換至4G網路後，重新嘗試操作。\\n...</td>\n",
              "    </tr>\n",
              "    <tr>\n",
              "      <th>31</th>\n",
              "      <td>顧客疑問</td>\n",
              "      <td>親愛的顧客您好\\n造成您的不便，敬請見諒，\\n1.本行已提供信用卡繳款入帳通知訊息，請您開啟...</td>\n",
              "    </tr>\n",
              "    <tr>\n",
              "      <th>32</th>\n",
              "      <td>NaN</td>\n",
              "      <td>親愛的顧客您好\\n感謝您的回饋，信用卡消費訊息會因網路環境等因素，而有時間差。另外，信用卡刷...</td>\n",
              "    </tr>\n",
              "    <tr>\n",
              "      <th>33</th>\n",
              "      <td>NaN</td>\n",
              "      <td>親愛的顧客您好\\n請您依照以下步驟操作：\\n步驟(1)：開啟行動銀行APP→打開側邊欄。\\n...</td>\n",
              "    </tr>\n",
              "    <tr>\n",
              "      <th>34</th>\n",
              "      <td>NaN</td>\n",
              "      <td>親愛的顧客您好\\n感謝您的回饋，建議您可以先使用電腦登入網路銀行，點選上方選單列之「臺幣存匯...</td>\n",
              "    </tr>\n",
              "    <tr>\n",
              "      <th>35</th>\n",
              "      <td>NaN</td>\n",
              "      <td>親愛的顧客您好\\n「圖形密碼」僅可在您綁定過的手機才可使用，且僅能做帳務查詢及自己帳戶間的交...</td>\n",
              "    </tr>\n",
              "    <tr>\n",
              "      <th>36</th>\n",
              "      <td>NaN</td>\n",
              "      <td>親愛的顧客您好\\n感謝您的回饋，請依照以下步驟操作。\\n步驟(1)：開啟行動銀行APP→打開...</td>\n",
              "    </tr>\n",
              "    <tr>\n",
              "      <th>37</th>\n",
              "      <td>NaN</td>\n",
              "      <td>親愛的顧客您好\\n感謝您的支持與愛護，為確保您的帳務安全，本行採用綁定裝置機制強化安全性，因...</td>\n",
              "    </tr>\n",
              "    <tr>\n",
              "      <th>38</th>\n",
              "      <td>NaN</td>\n",
              "      <td>親愛的顧客您好\\n本行已提供存摺備註功能，請您依照以下步驟操作。\\n步驟(1)：點選側邊欄臺...</td>\n",
              "    </tr>\n",
              "    <tr>\n",
              "      <th>39</th>\n",
              "      <td>NaN</td>\n",
              "      <td>親愛的顧客您好\\n本行已提供指紋辨識功能，請您依照以下步驟進行設定。\\n步驟(1)：登入行動...</td>\n",
              "    </tr>\n",
              "    <tr>\n",
              "      <th>40</th>\n",
              "      <td>NaN</td>\n",
              "      <td>親愛的顧客您好\\n本行已提供指紋辨識功能，請您依照以下步驟先完成裝置綁定，即可進行指紋登入設...</td>\n",
              "    </tr>\n",
              "    <tr>\n",
              "      <th>41</th>\n",
              "      <td>NaN</td>\n",
              "      <td>親愛的顧客您好\\n本行已提供行動銀行申請網銀功能，請您依照以下步驟操作。\\n步驟(1)：打開...</td>\n",
              "    </tr>\n",
              "    <tr>\n",
              "      <th>42</th>\n",
              "      <td>NaN</td>\n",
              "      <td>親愛的顧客您好\\n感謝您的回饋，若您轉帳的對方帳號並非您的常用帳號，於轉帳完成後的交易成功頁...</td>\n",
              "    </tr>\n",
              "    <tr>\n",
              "      <th>43</th>\n",
              "      <td>NaN</td>\n",
              "      <td>親愛的顧客您好\\n感謝您的回饋，請您依照以下步驟操作。\\n步驟(1)：登入行動銀行首頁後，拉...</td>\n",
              "    </tr>\n",
              "    <tr>\n",
              "      <th>44</th>\n",
              "      <td>NaN</td>\n",
              "      <td>親愛的顧客您好\\n此情形與您的信用卡結帳週期有關，若要查詢您最新的刷卡資訊，請點選行動APP...</td>\n",
              "    </tr>\n",
              "    <tr>\n",
              "      <th>45</th>\n",
              "      <td>第三方問題</td>\n",
              "      <td>親愛的顧客您好\\n因Android系統更新，導致頁面空白或無法使用，請您依照以下步驟進行設定...</td>\n",
              "    </tr>\n",
              "    <tr>\n",
              "      <th>46</th>\n",
              "      <td>NaN</td>\n",
              "      <td>親愛的顧客您好\\n請確認手機內是否有安裝如Clean Master、Battery Doct...</td>\n",
              "    </tr>\n",
              "    <tr>\n",
              "      <th>47</th>\n",
              "      <td>NaN</td>\n",
              "      <td>親愛的顧客您好\\n請協助確認手機內是否有安裝如Clean Master、Battery Do...</td>\n",
              "    </tr>\n",
              "    <tr>\n",
              "      <th>48</th>\n",
              "      <td>NaN</td>\n",
              "      <td>親愛的顧客您好\\n感謝您的回饋，若您已完成設定推播功能，仍無法收到推播，請參考「常見問題-1...</td>\n",
              "    </tr>\n",
              "    <tr>\n",
              "      <th>49</th>\n",
              "      <td>NaN</td>\n",
              "      <td>親愛的顧客您好\\n建議您先重新開機，如仍無法收取簡訊，再請依照下列步驟重新操作：\\n步驟(1...</td>\n",
              "    </tr>\n",
              "    <tr>\n",
              "      <th>50</th>\n",
              "      <td>NaN</td>\n",
              "      <td>親愛的顧客您好\\n建議您先重新開機，如仍無法收取簡訊，再請您嘗試依照下列步驟重新操作：\\n步...</td>\n",
              "    </tr>\n",
              "    <tr>\n",
              "      <th>51</th>\n",
              "      <td>NaN</td>\n",
              "      <td>親愛的顧客您好\\n為保護您的帳務及行動裝置安全，建議您勿安裝破解系統相關程式或更改原廠安全設...</td>\n",
              "    </tr>\n",
              "    <tr>\n",
              "      <th>52</th>\n",
              "      <td>NaN</td>\n",
              "      <td>親愛的顧客您好\\n感謝您的支持與愛護，因目前Pixel 4 人臉辨識功能於使用者閉眼狀態也能...</td>\n",
              "    </tr>\n",
              "    <tr>\n",
              "      <th>53</th>\n",
              "      <td>NaN</td>\n",
              "      <td>親愛的顧客您好 \\n感謝您的支持與愛護，目前本行僅支援由台灣Pay特店掃顧客出示「付款碼」之...</td>\n",
              "    </tr>\n",
              "    <tr>\n",
              "      <th>54</th>\n",
              "      <td>新版本已修復</td>\n",
              "      <td>親愛的顧客您好\\n此問題已於更新版本中修復，敬請更新後再次使用。\\n感謝您的支持與愛護，如您...</td>\n",
              "    </tr>\n",
              "    <tr>\n",
              "      <th>55</th>\n",
              "      <td>顧客疑問</td>\n",
              "      <td>親愛的顧客您好 \\n為強化顧客資料安全，本行新增「允許螢幕截圖」開關，敬請您依照下列步驟操作...</td>\n",
              "    </tr>\n",
              "    <tr>\n",
              "      <th>56</th>\n",
              "      <td>系統問題</td>\n",
              "      <td>親愛的顧客您好\\n感謝您的回饋，請您確認全程於「4G」環境下依照下列步驟重新操作。\\n步驟(...</td>\n",
              "    </tr>\n",
              "    <tr>\n",
              "      <th>57</th>\n",
              "      <td>顧客疑問</td>\n",
              "      <td>親愛的顧客您好\\n感謝您的支持與愛護，APP評論皆為顧客自主給予的回饋，且Google Pl...</td>\n",
              "    </tr>\n",
              "    <tr>\n",
              "      <th>58</th>\n",
              "      <td>顧客疑問</td>\n",
              "      <td>親愛的顧客您好\\n感謝您的支持與愛護，APP評論皆為顧客自主給予的回饋，且App Store...</td>\n",
              "    </tr>\n",
              "  </tbody>\n",
              "</table>\n",
              "</div>"
            ],
            "text/plain": [
              "       子分類                                               公版內容\n",
              "0       建議  親愛的顧客您好\\n感謝您的支持與愛護，本行將持續改善與精進，我們會把您的意見回饋給相關單位，...\n",
              "1      NaN  親愛的顧客您好\\n感謝您的回饋，建議您可以先使用電腦登入網路銀行，點選「XXXX」→XXXX...\n",
              "2      NaN  Dear  Customer,\\nThank you for your feedback. ...\n",
              "3       抱怨  親愛的顧客您好\\n造成您的不便，敬請見諒。本行將持續改善與精進，我們會把您的意見回饋給相關單...\n",
              "4       抱怨  親愛的顧客您好\\n感謝您的回饋，建議您亦可使用智能客服(https://robot.esun...\n",
              "5     未知問題  親愛的顧客您好\\n感謝您的回饋，為了進一步確認您的問題，以便把您的意見回饋給相關單位，請您使...\n",
              "6       稱讚                   親愛的顧客您好\\n您的支持與愛護是玉山服務更精進的動力。謝謝您~\n",
              "7      NaN          親愛的顧客您好\\n感謝您給予5顆星~您的支持與愛護是玉山服務更精進的動力。謝謝您~\n",
              "8     操作問題  親愛的顧客您好\\n感謝您的回饋，本行已提供超商條碼繳費服務，敬請將APP更新至最新版後使用。...\n",
              "9      NaN  親愛的顧客您好\\n請您確認：\\n(1) 行動裝置是否支援指紋辨識功能。\\n(2) Andro...\n",
              "10     NaN  親愛的顧客您好\\n本行已提供即期匯率幣別排序功能，請您依照以下步驟操作。\\n步驟(1)：於「...\n",
              "11     NaN  親愛的顧客您好\\n感謝您的支持與愛護，請您嘗試依照下列步驟重新操作。\\n步驟(1)：於「外幣...\n",
              "12     NaN  親愛的顧客您好\\n感謝您的回饋，如為密碼超過一年之原因，請於跳出的通知畫面，點選「繼續使用原...\n",
              "13     NaN  親愛的顧客您好\\n請您依照以下步驟設定推播通知。\\n步驟(1)：開啟行動銀行APP→打開側邊...\n",
              "14     NaN  親愛的顧客您好\\n您可透過臨櫃、ATM或網路銀行開啟簡訊密碼：\\nATM開通方式：http:...\n",
              "15     NaN  親愛的顧客您好\\n感謝您的回饋，您可於XXXXXX\\n如有任何其他問題，建議您可使用智能客服...\n",
              "16     NaN  親愛的顧客您好\\n本行已提供XXXX，請您依照以下步驟XXXX。\\n步驟(1)：\\n步驟(2...\n",
              "17    系統問題  親愛的顧客您好\\n感謝您的回饋，目前已盡速修復中，造成您的不便，敬請見諒。\\n如有任何其他問...\n",
              "18     NaN  親愛的顧客您好\\n感謝您的回饋，目前系統已恢復正常，請您重新登入，謝謝。\\n\\n如有任何其他...\n",
              "19     NaN  親愛的顧客您好\\n感謝您的回饋，近期因使用人數較多，系統較為繁忙，目前已盡速修復中，造成您的...\n",
              "20     NaN  親愛的顧客您好\\n因本行於年/月/日 時:分至時:分 進行系統維護，導致無法使用服務，如造成...\n",
              "21     NaN  親愛的顧客您好\\n本行於年/月/日 時:分至時:分進行系統維護，如您持續無法正常使用，建議您...\n",
              "22     NaN  親愛的顧客您好\\n感謝您的回饋，請您依照下列步驟重新操作。\\n步驟(1)：進入行動銀行APP...\n",
              "23     NaN  親愛的顧客您好\\n感謝您的回饋，請您依照下列步驟重新操作。\\n步驟(1)：進入行動銀行APP...\n",
              "24     NaN  親愛的顧客您好\\n目前綁定裝置數有五支限制，次數部分則無上限，請您依照下列步驟調整您的綁定裝...\n",
              "25     NaN  親愛的顧客您好\\n造成您的不便，敬請見諒，請您依照下列步驟重新操作。\\n步驟(1)：開啟「設...\n",
              "26     NaN  親愛的顧客您好\\n請您依照下列步驟重新操作：\\n1. 請移除您手機原有之「玉山行動銀行」ap...\n",
              "27     NaN  親愛的顧客您好\\n造成您的不便，敬請見諒，請您依下列步驟設定：：\\n步驟(1)：開啟「設定」...\n",
              "28     NaN  親愛的顧客您好\\n造成您的不便，敬請見諒。請您依下列步驟設定：\\n步驟(1)：開啟「設定」→...\n",
              "29     NaN  親愛的顧客您好\\n造成您的不便，敬請見諒，請您依照下列步驟重新操作。\\n步驟(1)：請手機「...\n",
              "30     NaN  親愛的顧客您好 \\n感謝您的回饋，目前已盡速修復中，請您切換至4G網路後，重新嘗試操作。\\n...\n",
              "31    顧客疑問  親愛的顧客您好\\n造成您的不便，敬請見諒，\\n1.本行已提供信用卡繳款入帳通知訊息，請您開啟...\n",
              "32     NaN  親愛的顧客您好\\n感謝您的回饋，信用卡消費訊息會因網路環境等因素，而有時間差。另外，信用卡刷...\n",
              "33     NaN  親愛的顧客您好\\n請您依照以下步驟操作：\\n步驟(1)：開啟行動銀行APP→打開側邊欄。\\n...\n",
              "34     NaN  親愛的顧客您好\\n感謝您的回饋，建議您可以先使用電腦登入網路銀行，點選上方選單列之「臺幣存匯...\n",
              "35     NaN  親愛的顧客您好\\n「圖形密碼」僅可在您綁定過的手機才可使用，且僅能做帳務查詢及自己帳戶間的交...\n",
              "36     NaN  親愛的顧客您好\\n感謝您的回饋，請依照以下步驟操作。\\n步驟(1)：開啟行動銀行APP→打開...\n",
              "37     NaN  親愛的顧客您好\\n感謝您的支持與愛護，為確保您的帳務安全，本行採用綁定裝置機制強化安全性，因...\n",
              "38     NaN  親愛的顧客您好\\n本行已提供存摺備註功能，請您依照以下步驟操作。\\n步驟(1)：點選側邊欄臺...\n",
              "39     NaN  親愛的顧客您好\\n本行已提供指紋辨識功能，請您依照以下步驟進行設定。\\n步驟(1)：登入行動...\n",
              "40     NaN  親愛的顧客您好\\n本行已提供指紋辨識功能，請您依照以下步驟先完成裝置綁定，即可進行指紋登入設...\n",
              "41     NaN  親愛的顧客您好\\n本行已提供行動銀行申請網銀功能，請您依照以下步驟操作。\\n步驟(1)：打開...\n",
              "42     NaN  親愛的顧客您好\\n感謝您的回饋，若您轉帳的對方帳號並非您的常用帳號，於轉帳完成後的交易成功頁...\n",
              "43     NaN  親愛的顧客您好\\n感謝您的回饋，請您依照以下步驟操作。\\n步驟(1)：登入行動銀行首頁後，拉...\n",
              "44     NaN  親愛的顧客您好\\n此情形與您的信用卡結帳週期有關，若要查詢您最新的刷卡資訊，請點選行動APP...\n",
              "45   第三方問題  親愛的顧客您好\\n因Android系統更新，導致頁面空白或無法使用，請您依照以下步驟進行設定...\n",
              "46     NaN  親愛的顧客您好\\n請確認手機內是否有安裝如Clean Master、Battery Doct...\n",
              "47     NaN  親愛的顧客您好\\n請協助確認手機內是否有安裝如Clean Master、Battery Do...\n",
              "48     NaN  親愛的顧客您好\\n感謝您的回饋，若您已完成設定推播功能，仍無法收到推播，請參考「常見問題-1...\n",
              "49     NaN  親愛的顧客您好\\n建議您先重新開機，如仍無法收取簡訊，再請依照下列步驟重新操作：\\n步驟(1...\n",
              "50     NaN  親愛的顧客您好\\n建議您先重新開機，如仍無法收取簡訊，再請您嘗試依照下列步驟重新操作：\\n步...\n",
              "51     NaN  親愛的顧客您好\\n為保護您的帳務及行動裝置安全，建議您勿安裝破解系統相關程式或更改原廠安全設...\n",
              "52     NaN  親愛的顧客您好\\n感謝您的支持與愛護，因目前Pixel 4 人臉辨識功能於使用者閉眼狀態也能...\n",
              "53     NaN  親愛的顧客您好 \\n感謝您的支持與愛護，目前本行僅支援由台灣Pay特店掃顧客出示「付款碼」之...\n",
              "54  新版本已修復  親愛的顧客您好\\n此問題已於更新版本中修復，敬請更新後再次使用。\\n感謝您的支持與愛護，如您...\n",
              "55    顧客疑問  親愛的顧客您好 \\n為強化顧客資料安全，本行新增「允許螢幕截圖」開關，敬請您依照下列步驟操作...\n",
              "56    系統問題  親愛的顧客您好\\n感謝您的回饋，請您確認全程於「4G」環境下依照下列步驟重新操作。\\n步驟(...\n",
              "57    顧客疑問  親愛的顧客您好\\n感謝您的支持與愛護，APP評論皆為顧客自主給予的回饋，且Google Pl...\n",
              "58    顧客疑問  親愛的顧客您好\\n感謝您的支持與愛護，APP評論皆為顧客自主給予的回饋，且App Store..."
            ]
          },
          "metadata": {
            "tags": []
          },
          "execution_count": 77
        }
      ]
    },
    {
      "cell_type": "code",
      "metadata": {
        "id": "OPN9ZpDAYdmB",
        "colab_type": "code",
        "colab": {}
      },
      "source": [
        "curr = \"\"\n",
        "subclass = []\n",
        "for i in range(len(df_map)):\n",
        "    string = df_map.loc[i, '子分類']\n",
        "    if string is not np.nan:\n",
        "        curr = string\n",
        "    subclass.append(curr)"
      ],
      "execution_count": 0,
      "outputs": []
    },
    {
      "cell_type": "code",
      "metadata": {
        "id": "7O-zH81SYduQ",
        "colab_type": "code",
        "colab": {}
      },
      "source": [
        "df_map['子分類'] = subclass"
      ],
      "execution_count": 0,
      "outputs": []
    },
    {
      "cell_type": "code",
      "metadata": {
        "id": "dwFehPSBYdrx",
        "colab_type": "code",
        "outputId": "4272171a-1054-4fdc-a635-e71716936073",
        "colab": {
          "base_uri": "https://localhost:8080/",
          "height": 34
        }
      },
      "source": [
        "len(df_map)"
      ],
      "execution_count": 0,
      "outputs": [
        {
          "output_type": "execute_result",
          "data": {
            "text/plain": [
              "59"
            ]
          },
          "metadata": {
            "tags": []
          },
          "execution_count": 101
        }
      ]
    },
    {
      "cell_type": "code",
      "metadata": {
        "id": "xyYhqeMtYdoy",
        "colab_type": "code",
        "colab": {}
      },
      "source": [
        ""
      ],
      "execution_count": 0,
      "outputs": []
    }
  ]
}